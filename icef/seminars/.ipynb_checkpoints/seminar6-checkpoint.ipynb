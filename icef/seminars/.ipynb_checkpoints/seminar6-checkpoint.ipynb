{
 "cells": [
  {
   "cell_type": "markdown",
   "metadata": {},
   "source": [
    "# Python для сбора данных\n",
    "\n",
    "*Алла Тамбовцева, НИУ ВШЭ*\n",
    "\n",
    "### Семинар 6:  графики и виджеты"
   ]
  },
  {
   "cell_type": "markdown",
   "metadata": {},
   "source": [
    "### Задание 1\n",
    "\n",
    "Загрузите данные из файла `Chile.csv` в датафрейм `ch` и удалите из него строки с пропущенными значениями."
   ]
  },
  {
   "cell_type": "markdown",
   "metadata": {},
   "source": [
    "### Задание 2\n",
    "\n",
    "Создайте виджет типа *Dropdown*, выпадающее меню, где опциями меню являются названия столбцов датафрейма `ch`, кроме `Unnamed:0`, а значением по умолчанию является `population`. Сохраните его в переменную `choose` и выведите на экран."
   ]
  },
  {
   "cell_type": "markdown",
   "metadata": {},
   "source": [
    "### Задание 3\n",
    "\n",
    "Напишите функцию `desc_plot()`, которая принимает на вход строку с названием столбца, которое выбрал пользователь в выпадающем меню, и строит соответствующий график:\n",
    "\n",
    "* если тип столбца не `object`, то строит гистограмму;\n",
    "* если тип столбца `object`, то строит столбиковую диаграмму."
   ]
  },
  {
   "cell_type": "markdown",
   "metadata": {},
   "source": [
    "### Задание 4\n",
    "\n",
    "Создайте виджет-кнопку типа *Button* и сделайте так, чтобы при нажатии на эту кнопку активировалась функция `desc_plot()`, написанная выше.\n",
    "\n",
    "**Подсказка:** посмотрите официальную документацию по событиям (*Events*) в `ipywidgets` по [ссылке](https://ipywidgets.readthedocs.io/en/latest/examples/Widget%20Events.html)."
   ]
  }
 ],
 "metadata": {
  "kernelspec": {
   "display_name": "Python 3",
   "language": "python",
   "name": "python3"
  },
  "language_info": {
   "codemirror_mode": {
    "name": "ipython",
    "version": 3
   },
   "file_extension": ".py",
   "mimetype": "text/x-python",
   "name": "python",
   "nbconvert_exporter": "python",
   "pygments_lexer": "ipython3",
   "version": "3.7.4"
  }
 },
 "nbformat": 4,
 "nbformat_minor": 2
}
