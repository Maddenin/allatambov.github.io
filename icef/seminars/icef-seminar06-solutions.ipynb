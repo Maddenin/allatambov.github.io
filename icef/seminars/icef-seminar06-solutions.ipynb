{
 "cells": [
  {
   "cell_type": "markdown",
   "metadata": {},
   "source": [
    "# Python для сбора данных\n",
    "\n",
    "*Алла Тамбовцева, НИУ ВШЭ*\n",
    "\n",
    "### Семинар 6:  графики и виджеты"
   ]
  },
  {
   "cell_type": "markdown",
   "metadata": {},
   "source": [
    "### Задание 1\n",
    "\n",
    "Загрузите данные из файла `Chile.csv` в датафрейм `ch` и удалите из него строки с пропущенными значениями."
   ]
  },
  {
   "cell_type": "code",
   "execution_count": 1,
   "metadata": {},
   "outputs": [],
   "source": [
    "import pandas as pd\n",
    "\n",
    "ch = pd.read_csv(\"https://allatambov.github.io/pydj/seminars/Chile.csv\")\n",
    "ch.dropna(inplace = True)"
   ]
  },
  {
   "cell_type": "markdown",
   "metadata": {},
   "source": [
    "### Задание 2\n",
    "\n",
    "Создайте виджет типа *Dropdown*, выпадающее меню, где опциями меню являются названия столбцов датафрейма `ch`, кроме `Unnamed:0`, а значением по умолчанию является `population`. Сохраните его в переменную `choose` и выведите на экран."
   ]
  },
  {
   "cell_type": "code",
   "execution_count": 2,
   "metadata": {},
   "outputs": [
    {
     "data": {
      "application/vnd.jupyter.widget-view+json": {
       "model_id": "e724066fa5ea47eeafebfb85f57cb475",
       "version_major": 2,
       "version_minor": 0
      },
      "text/plain": [
       "Dropdown(description='Column:', index=1, options=('region', 'population', 'sex', 'age', 'education', 'income',…"
      ]
     },
     "metadata": {},
     "output_type": "display_data"
    }
   ],
   "source": [
    "import ipywidgets as widgets\n",
    "\n",
    "choose = widgets.Dropdown(options = ch.columns[1:], \n",
    "                         value = \"population\", \n",
    "                         description = \"Column:\")\n",
    "display(choose)"
   ]
  },
  {
   "cell_type": "markdown",
   "metadata": {},
   "source": [
    "### Задание 3\n",
    "\n",
    "Напишите функцию `desc_plot()`, которая принимает на вход строку с названием столбца, которое выбрал пользователь в выпадающем меню, и строит соответствующий график:\n",
    "\n",
    "* если тип столбца не `object`, то строит гистограмму;\n",
    "* если тип столбца `object`, то строит столбиковую диаграмму."
   ]
  },
  {
   "cell_type": "code",
   "execution_count": 3,
   "metadata": {},
   "outputs": [],
   "source": [
    "import seaborn as sns\n",
    "sns.set()\n",
    "\n",
    "def desc_plot(c):\n",
    "    if ch[c].dtype != \"object\":\n",
    "        sns.distplot(ch[c], kde = False)\n",
    "    else:\n",
    "        tab = ch[c].value_counts()\n",
    "        x = tab.index\n",
    "        y = tab.values\n",
    "        sns.barplot(x, y)"
   ]
  },
  {
   "cell_type": "markdown",
   "metadata": {},
   "source": [
    "### Задание 4\n",
    "\n",
    "Создайте виджет-кнопку типа *Button* и сделайте так, чтобы при нажатии на эту кнопку активировалась функция `desc_plot()`, написанная выше.\n",
    "\n",
    "**Подсказка:** посмотрите официальную документацию по событиям (*Events*) в `ipywidgets` по [ссылке](https://ipywidgets.readthedocs.io/en/latest/examples/Widget%20Events.html)."
   ]
  },
  {
   "cell_type": "code",
   "execution_count": 4,
   "metadata": {},
   "outputs": [],
   "source": [
    "# прежде изменим desc_plot()\n",
    "# переопределим c, теперь c – это значение, выбранное в choose\n",
    "\n",
    "def desc_plot(c):\n",
    "    c = choose.value\n",
    "    if ch[c].dtype != \"object\":\n",
    "        sns.distplot(ch[c], kde = False)\n",
    "    else:\n",
    "        tab = ch[c].value_counts()\n",
    "        x = tab.index\n",
    "        y = tab.values\n",
    "        sns.barplot(x, y)"
   ]
  },
  {
   "cell_type": "code",
   "execution_count": 5,
   "metadata": {},
   "outputs": [],
   "source": [
    "button = widgets.Button(description = \"Click\")\n",
    "button.on_click(desc_plot)"
   ]
  },
  {
   "cell_type": "code",
   "execution_count": 6,
   "metadata": {},
   "outputs": [
    {
     "data": {
      "application/vnd.jupyter.widget-view+json": {
       "model_id": "e724066fa5ea47eeafebfb85f57cb475",
       "version_major": 2,
       "version_minor": 0
      },
      "text/plain": [
       "Dropdown(description='Column:', index=1, options=('region', 'population', 'sex', 'age', 'education', 'income',…"
      ]
     },
     "metadata": {},
     "output_type": "display_data"
    },
    {
     "data": {
      "application/vnd.jupyter.widget-view+json": {
       "model_id": "ac98e9ca7fc14b3699279ff8e63cf3fc",
       "version_major": 2,
       "version_minor": 0
      },
      "text/plain": [
       "Button(description='Click', style=ButtonStyle())"
      ]
     },
     "metadata": {},
     "output_type": "display_data"
    },
    {
     "data": {
      "image/png": "[encoded data removed]",
      "text/plain": [
       "<Figure size 432x288 with 1 Axes>"
      ]
     },
     "metadata": {
      "needs_background": "light"
     },
     "output_type": "display_data"
    },
    {
     "data": {
      "image/png": "[encoded data removed]",
      "text/plain": [
       "<Figure size 432x288 with 1 Axes>"
      ]
     },
     "metadata": {
      "needs_background": "light"
     },
     "output_type": "display_data"
    }
   ],
   "source": [
    "display(choose)\n",
    "display(button)"
   ]
  }
 ],
 "metadata": {
  "kernelspec": {
   "display_name": "Python 3",
   "language": "python",
   "name": "python3"
  },
  "language_info": {
   "codemirror_mode": {
    "name": "ipython",
    "version": 3
   },
   "file_extension": ".py",
   "mimetype": "text/x-python",
   "name": "python",
   "nbconvert_exporter": "python",
   "pygments_lexer": "ipython3",
   "version": "3.7.4"
  }
 },
 "nbformat": 4,
 "nbformat_minor": 2
}
