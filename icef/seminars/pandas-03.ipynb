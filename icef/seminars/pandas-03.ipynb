{
 "cells": [
  {
   "cell_type": "markdown",
   "metadata": {},
   "source": [
    "# Python для сбора данных \n",
    "\n",
    "*Алла Тамбовцева, НИУ ВШЭ*\n",
    "\n",
    "## Работа с датафреймами pandas: часть 3\n",
    "\n",
    "Часть 3 включает:\n",
    "\n",
    "* добавление новых столбцов: продолжение;\n",
    "* метод `.apply()` и lambda-функции;\n",
    "* группировка и агрегирование;\n",
    "* результаты агрегирования и мультииндексы."
   ]
  },
  {
   "cell_type": "markdown",
   "metadata": {},
   "source": [
    "### Добавление новых столбцов: продолжение"
   ]
  },
  {
   "cell_type": "markdown",
   "metadata": {},
   "source": [
    "Продолжим работать с файлом `firtree.csv` с вымышленными результатами опроса посетителей елочного базара. Импортируем `pandas` и загрузим файл по ссылке: "
   ]
  },
  {
   "cell_type": "code",
   "execution_count": 1,
   "metadata": {},
   "outputs": [],
   "source": [
    "import pandas as pd\n",
    "tree = pd.read_csv(\"https://allatambov.github.io/pydj/seminars/firtree.csv\")"
   ]
  },
  {
   "cell_type": "markdown",
   "metadata": {},
   "source": [
    "Вспомним, как выглядит датафрейм `tree`:"
   ]
  },
  {
   "cell_type": "code",
   "execution_count": 2,
   "metadata": {},
   "outputs": [
    {
     "data": {
      "text/html": [
       "<div>\n",
       "<style scoped>\n",
       "    .dataframe tbody tr th:only-of-type {\n",
       "        vertical-align: middle;\n",
       "    }\n",
       "\n",
       "    .dataframe tbody tr th {\n",
       "        vertical-align: top;\n",
       "    }\n",
       "\n",
       "    .dataframe thead th {\n",
       "        text-align: right;\n",
       "    }\n",
       "</style>\n",
       "<table border=\"1\" class=\"dataframe\">\n",
       "  <thead>\n",
       "    <tr style=\"text-align: right;\">\n",
       "      <th></th>\n",
       "      <th>Unnamed: 0</th>\n",
       "      <th>gender</th>\n",
       "      <th>ftype</th>\n",
       "      <th>height</th>\n",
       "      <th>score</th>\n",
       "      <th>expenses</th>\n",
       "      <th>wish</th>\n",
       "    </tr>\n",
       "  </thead>\n",
       "  <tbody>\n",
       "    <tr>\n",
       "      <td>0</td>\n",
       "      <td>1</td>\n",
       "      <td>female</td>\n",
       "      <td>пихта Нобилис</td>\n",
       "      <td>190</td>\n",
       "      <td>3</td>\n",
       "      <td>1051</td>\n",
       "      <td>да</td>\n",
       "    </tr>\n",
       "    <tr>\n",
       "      <td>1</td>\n",
       "      <td>2</td>\n",
       "      <td>male</td>\n",
       "      <td>пихта Нобилис</td>\n",
       "      <td>174</td>\n",
       "      <td>3</td>\n",
       "      <td>2378</td>\n",
       "      <td>нет</td>\n",
       "    </tr>\n",
       "    <tr>\n",
       "      <td>2</td>\n",
       "      <td>3</td>\n",
       "      <td>female</td>\n",
       "      <td>сосна Крым</td>\n",
       "      <td>248</td>\n",
       "      <td>4</td>\n",
       "      <td>655</td>\n",
       "      <td>да</td>\n",
       "    </tr>\n",
       "    <tr>\n",
       "      <td>3</td>\n",
       "      <td>4</td>\n",
       "      <td>female</td>\n",
       "      <td>сосна Крым</td>\n",
       "      <td>191</td>\n",
       "      <td>1</td>\n",
       "      <td>2934</td>\n",
       "      <td>да</td>\n",
       "    </tr>\n",
       "    <tr>\n",
       "      <td>4</td>\n",
       "      <td>5</td>\n",
       "      <td>female</td>\n",
       "      <td>сосна Крым</td>\n",
       "      <td>147</td>\n",
       "      <td>3</td>\n",
       "      <td>1198</td>\n",
       "      <td>нет</td>\n",
       "    </tr>\n",
       "  </tbody>\n",
       "</table>\n",
       "</div>"
      ],
      "text/plain": [
       "   Unnamed: 0  gender          ftype  height  score  expenses wish\n",
       "0           1  female  пихта Нобилис     190      3      1051   да\n",
       "1           2    male  пихта Нобилис     174      3      2378  нет\n",
       "2           3  female     сосна Крым     248      4       655   да\n",
       "3           4  female     сосна Крым     191      1      2934   да\n",
       "4           5  female     сосна Крым     147      3      1198  нет"
      ]
     },
     "execution_count": 2,
     "metadata": {},
     "output_type": "execute_result"
    }
   ],
   "source": [
    "tree.head() "
   ]
  },
  {
   "cell_type": "markdown",
   "metadata": {},
   "source": [
    "Добавим в датафрейм бинарный столбец `female`, где 1 соответствует респондентам женского пола, а 0 – мужского. Сделать это можно разными способами. Мы пойдем по простому пути – создадим столбец из `True` и `False`, а потом превратим его в целочисленный (`True` превратятся в 1, а `False` – в 0).\n",
    "\n",
    "Получить набор из `True` и `False` легко, достаточно сформулировать условие с помощью операторов к столбцу датафрейму (в этом массивы и последовательности *pandas Series* похожи):"
   ]
  },
  {
   "cell_type": "code",
   "execution_count": 3,
   "metadata": {},
   "outputs": [
    {
     "data": {
      "text/plain": [
       "0        True\n",
       "1       False\n",
       "2        True\n",
       "3        True\n",
       "4        True\n",
       "        ...  \n",
       "1195    False\n",
       "1196     True\n",
       "1197    False\n",
       "1198    False\n",
       "1199    False\n",
       "Name: gender, Length: 1200, dtype: bool"
      ]
     },
     "execution_count": 3,
     "metadata": {},
     "output_type": "execute_result"
    }
   ],
   "source": [
    "tree[\"gender\"] == \"female\""
   ]
  },
  {
   "cell_type": "markdown",
   "metadata": {},
   "source": [
    "Теперь добавим полученный столбец в датафрейм и изменим его тип на *integer* с помощью метода `.astype`:"
   ]
  },
  {
   "cell_type": "code",
   "execution_count": 4,
   "metadata": {},
   "outputs": [
    {
     "data": {
      "text/html": [
       "<div>\n",
       "<style scoped>\n",
       "    .dataframe tbody tr th:only-of-type {\n",
       "        vertical-align: middle;\n",
       "    }\n",
       "\n",
       "    .dataframe tbody tr th {\n",
       "        vertical-align: top;\n",
       "    }\n",
       "\n",
       "    .dataframe thead th {\n",
       "        text-align: right;\n",
       "    }\n",
       "</style>\n",
       "<table border=\"1\" class=\"dataframe\">\n",
       "  <thead>\n",
       "    <tr style=\"text-align: right;\">\n",
       "      <th></th>\n",
       "      <th>Unnamed: 0</th>\n",
       "      <th>gender</th>\n",
       "      <th>ftype</th>\n",
       "      <th>height</th>\n",
       "      <th>score</th>\n",
       "      <th>expenses</th>\n",
       "      <th>wish</th>\n",
       "      <th>female</th>\n",
       "    </tr>\n",
       "  </thead>\n",
       "  <tbody>\n",
       "    <tr>\n",
       "      <td>0</td>\n",
       "      <td>1</td>\n",
       "      <td>female</td>\n",
       "      <td>пихта Нобилис</td>\n",
       "      <td>190</td>\n",
       "      <td>3</td>\n",
       "      <td>1051</td>\n",
       "      <td>да</td>\n",
       "      <td>1</td>\n",
       "    </tr>\n",
       "    <tr>\n",
       "      <td>1</td>\n",
       "      <td>2</td>\n",
       "      <td>male</td>\n",
       "      <td>пихта Нобилис</td>\n",
       "      <td>174</td>\n",
       "      <td>3</td>\n",
       "      <td>2378</td>\n",
       "      <td>нет</td>\n",
       "      <td>0</td>\n",
       "    </tr>\n",
       "    <tr>\n",
       "      <td>2</td>\n",
       "      <td>3</td>\n",
       "      <td>female</td>\n",
       "      <td>сосна Крым</td>\n",
       "      <td>248</td>\n",
       "      <td>4</td>\n",
       "      <td>655</td>\n",
       "      <td>да</td>\n",
       "      <td>1</td>\n",
       "    </tr>\n",
       "    <tr>\n",
       "      <td>3</td>\n",
       "      <td>4</td>\n",
       "      <td>female</td>\n",
       "      <td>сосна Крым</td>\n",
       "      <td>191</td>\n",
       "      <td>1</td>\n",
       "      <td>2934</td>\n",
       "      <td>да</td>\n",
       "      <td>1</td>\n",
       "    </tr>\n",
       "    <tr>\n",
       "      <td>4</td>\n",
       "      <td>5</td>\n",
       "      <td>female</td>\n",
       "      <td>сосна Крым</td>\n",
       "      <td>147</td>\n",
       "      <td>3</td>\n",
       "      <td>1198</td>\n",
       "      <td>нет</td>\n",
       "      <td>1</td>\n",
       "    </tr>\n",
       "  </tbody>\n",
       "</table>\n",
       "</div>"
      ],
      "text/plain": [
       "   Unnamed: 0  gender          ftype  height  score  expenses wish  female\n",
       "0           1  female  пихта Нобилис     190      3      1051   да       1\n",
       "1           2    male  пихта Нобилис     174      3      2378  нет       0\n",
       "2           3  female     сосна Крым     248      4       655   да       1\n",
       "3           4  female     сосна Крым     191      1      2934   да       1\n",
       "4           5  female     сосна Крым     147      3      1198  нет       1"
      ]
     },
     "execution_count": 4,
     "metadata": {},
     "output_type": "execute_result"
    }
   ],
   "source": [
    "tree[\"female\"] = tree[\"gender\"] == \"female\"\n",
    "tree[\"female\"] = tree[\"female\"].astype(int)\n",
    "tree.head()"
   ]
  },
  {
   "cell_type": "markdown",
   "metadata": {},
   "source": [
    "Ранее мы уже обсуждали, что новый столбец на основе старого можно создать с помощью метода `.apply()`, в который можно вписать свою функцию для преобразований. Мы создавали функцию `trans_comm()` и применяли ее к столбцу `score`, чтобы получить текстовый комментарий для каждой оценки. Часто вместе с `.apply()` используют *lambda-функции*, которые позволяют компактно определить функцию прямо внутри метода. Сделаем небольшое отступление и обсудим lambda-функции."
   ]
  },
  {
   "cell_type": "markdown",
   "metadata": {},
   "source": [
    "### Lambda-функции и метод `.apply()`"
   ]
  },
  {
   "cell_type": "markdown",
   "metadata": {},
   "source": [
    "Ранее мы создавали классические функции с помощью оператора `def`. Для примера возьмем простую функцию `square()`,  которая принимает на вход число и возвращает его квадрат."
   ]
  },
  {
   "cell_type": "code",
   "execution_count": 5,
   "metadata": {},
   "outputs": [],
   "source": [
    "def square(x):\n",
    "    return x ** 2"
   ]
  },
  {
   "cell_type": "markdown",
   "metadata": {},
   "source": [
    "Как создать lambda-функцию в одну строчку, которая будет выполнять то же самое? Вот так:"
   ]
  },
  {
   "cell_type": "code",
   "execution_count": 6,
   "metadata": {},
   "outputs": [],
   "source": [
    "square = lambda x: x ** 2"
   ]
  },
  {
   "cell_type": "markdown",
   "metadata": {},
   "source": [
    "Сначала создаем функцию `square`, потом через `=` присваиваем ей значение. Пишем оператор `lambda`, который указывает на начало lambda-функции, добавляем аргумент функции `x`, описывая, что функция принимает на вход, а после двоеточия ставим то, что функция должна возвращать. Проверим, как она работает: "
   ]
  },
  {
   "cell_type": "code",
   "execution_count": 7,
   "metadata": {},
   "outputs": [
    {
     "data": {
      "text/plain": [
       "36"
      ]
     },
     "execution_count": 7,
     "metadata": {},
     "output_type": "execute_result"
    }
   ],
   "source": [
    "square(6)"
   ]
  },
  {
   "cell_type": "markdown",
   "metadata": {},
   "source": [
    "Lambda-функции удобны тем, что они более компактные, и тем, что они могут существовать без названия (их еще называют анонимными). Рассмотрим пример с фильтрацией элементов списка. Для фильтрации элементов списка иногда используют функцию `filter()`. Работает она так: внутри `filter()` указываем функцию для отбора элементов, которая возвращает `True` и `False` в зависимости от выполнения условия, и `filter()` выбирает из списка только те элементы, где было возвращено `True`. \n",
    "\n",
    "Отберем из списка `L` неотрицательные элементы: внутри `filter()` поместим lambda-функцию, которая будет возвращать `True`, если число больше или равно 0, и `False` – в противном случае. "
   ]
  },
  {
   "cell_type": "code",
   "execution_count": 8,
   "metadata": {},
   "outputs": [],
   "source": [
    "L = [0, 8, 4, -4, -5, 6]"
   ]
  },
  {
   "cell_type": "code",
   "execution_count": 9,
   "metadata": {},
   "outputs": [
    {
     "data": {
      "text/plain": [
       "[0, 8, 4, 6]"
      ]
     },
     "execution_count": 9,
     "metadata": {},
     "output_type": "execute_result"
    }
   ],
   "source": [
    "# преобразуем в list(), чтобы получить список\n",
    "\n",
    "list(filter(lambda x: x >= 0, L)) "
   ]
  },
  {
   "cell_type": "markdown",
   "metadata": {},
   "source": [
    "Что интересного в примере выше? То, что нам совсем не понадобилось как-то называть функцию и сохранять ее отдельно. Мы ее использовали один раз, применили и забыли. Для простых функций, которые создаются для одной маленькой задачи, это может быть актуально. \n",
    "\n",
    "Вернемся к датафреймам. Создадим столбец `yes`, который будет состоять из 1 (ответ \"да\" в столбце `wish`) и 0 (ответ \"нет\" в столбце `wish`). Применим метод `.apply()` к столбцу `wish` и внутри него напишем lambda-функцию:"
   ]
  },
  {
   "cell_type": "code",
   "execution_count": 10,
   "metadata": {},
   "outputs": [
    {
     "data": {
      "text/html": [
       "<div>\n",
       "<style scoped>\n",
       "    .dataframe tbody tr th:only-of-type {\n",
       "        vertical-align: middle;\n",
       "    }\n",
       "\n",
       "    .dataframe tbody tr th {\n",
       "        vertical-align: top;\n",
       "    }\n",
       "\n",
       "    .dataframe thead th {\n",
       "        text-align: right;\n",
       "    }\n",
       "</style>\n",
       "<table border=\"1\" class=\"dataframe\">\n",
       "  <thead>\n",
       "    <tr style=\"text-align: right;\">\n",
       "      <th></th>\n",
       "      <th>Unnamed: 0</th>\n",
       "      <th>gender</th>\n",
       "      <th>ftype</th>\n",
       "      <th>height</th>\n",
       "      <th>score</th>\n",
       "      <th>expenses</th>\n",
       "      <th>wish</th>\n",
       "      <th>female</th>\n",
       "      <th>yes</th>\n",
       "    </tr>\n",
       "  </thead>\n",
       "  <tbody>\n",
       "    <tr>\n",
       "      <td>0</td>\n",
       "      <td>1</td>\n",
       "      <td>female</td>\n",
       "      <td>пихта Нобилис</td>\n",
       "      <td>190</td>\n",
       "      <td>3</td>\n",
       "      <td>1051</td>\n",
       "      <td>да</td>\n",
       "      <td>1</td>\n",
       "      <td>1</td>\n",
       "    </tr>\n",
       "    <tr>\n",
       "      <td>1</td>\n",
       "      <td>2</td>\n",
       "      <td>male</td>\n",
       "      <td>пихта Нобилис</td>\n",
       "      <td>174</td>\n",
       "      <td>3</td>\n",
       "      <td>2378</td>\n",
       "      <td>нет</td>\n",
       "      <td>0</td>\n",
       "      <td>0</td>\n",
       "    </tr>\n",
       "    <tr>\n",
       "      <td>2</td>\n",
       "      <td>3</td>\n",
       "      <td>female</td>\n",
       "      <td>сосна Крым</td>\n",
       "      <td>248</td>\n",
       "      <td>4</td>\n",
       "      <td>655</td>\n",
       "      <td>да</td>\n",
       "      <td>1</td>\n",
       "      <td>1</td>\n",
       "    </tr>\n",
       "    <tr>\n",
       "      <td>3</td>\n",
       "      <td>4</td>\n",
       "      <td>female</td>\n",
       "      <td>сосна Крым</td>\n",
       "      <td>191</td>\n",
       "      <td>1</td>\n",
       "      <td>2934</td>\n",
       "      <td>да</td>\n",
       "      <td>1</td>\n",
       "      <td>1</td>\n",
       "    </tr>\n",
       "    <tr>\n",
       "      <td>4</td>\n",
       "      <td>5</td>\n",
       "      <td>female</td>\n",
       "      <td>сосна Крым</td>\n",
       "      <td>147</td>\n",
       "      <td>3</td>\n",
       "      <td>1198</td>\n",
       "      <td>нет</td>\n",
       "      <td>1</td>\n",
       "      <td>0</td>\n",
       "    </tr>\n",
       "  </tbody>\n",
       "</table>\n",
       "</div>"
      ],
      "text/plain": [
       "   Unnamed: 0  gender          ftype  height  score  expenses wish  female  \\\n",
       "0           1  female  пихта Нобилис     190      3      1051   да       1   \n",
       "1           2    male  пихта Нобилис     174      3      2378  нет       0   \n",
       "2           3  female     сосна Крым     248      4       655   да       1   \n",
       "3           4  female     сосна Крым     191      1      2934   да       1   \n",
       "4           5  female     сосна Крым     147      3      1198  нет       1   \n",
       "\n",
       "   yes  \n",
       "0    1  \n",
       "1    0  \n",
       "2    1  \n",
       "3    1  \n",
       "4    0  "
      ]
     },
     "execution_count": 10,
     "metadata": {},
     "output_type": "execute_result"
    }
   ],
   "source": [
    "tree[\"yes\"] = tree[\"wish\"].apply(lambda x: int(x == \"да\"))\n",
    "tree.head() "
   ]
  },
  {
   "cell_type": "markdown",
   "metadata": {},
   "source": [
    "Внутри lambda-функции можно использовать и более сложные конструкции, например, *if-else*. Выглядеть это будет так:"
   ]
  },
  {
   "cell_type": "code",
   "execution_count": 11,
   "metadata": {},
   "outputs": [],
   "source": [
    "# сначала результат для if, потом само условие\n",
    "# потом else и результат для else\n",
    "\n",
    "check = lambda n: \"Ч\" if n % 2 == 0 else \"Н\""
   ]
  },
  {
   "cell_type": "code",
   "execution_count": 12,
   "metadata": {},
   "outputs": [
    {
     "data": {
      "text/plain": [
       "'Н'"
      ]
     },
     "execution_count": 12,
     "metadata": {},
     "output_type": "execute_result"
    }
   ],
   "source": [
    "check(9)"
   ]
  },
  {
   "cell_type": "code",
   "execution_count": 13,
   "metadata": {},
   "outputs": [
    {
     "data": {
      "text/plain": [
       "'Ч'"
      ]
     },
     "execution_count": 13,
     "metadata": {},
     "output_type": "execute_result"
    }
   ],
   "source": [
    "check(10)"
   ]
  },
  {
   "cell_type": "markdown",
   "metadata": {},
   "source": [
    "Если у lambda-функции несколько аргументов, они указываются через запятую:"
   ]
  },
  {
   "cell_type": "code",
   "execution_count": 14,
   "metadata": {},
   "outputs": [],
   "source": [
    "my_sum = lambda x, y: x + y"
   ]
  },
  {
   "cell_type": "code",
   "execution_count": 15,
   "metadata": {},
   "outputs": [
    {
     "data": {
      "text/plain": [
       "12"
      ]
     },
     "execution_count": 15,
     "metadata": {},
     "output_type": "execute_result"
    }
   ],
   "source": [
    "my_sum(8, 4)"
   ]
  },
  {
   "cell_type": "markdown",
   "metadata": {},
   "source": [
    "### Группировка и агрегирование"
   ]
  },
  {
   "cell_type": "markdown",
   "metadata": {},
   "source": [
    "Для начала сгруппируем данные по типу дерева (`ftype`). Группировка осуществляется с помощью метода `.groupby()`."
   ]
  },
  {
   "cell_type": "code",
   "execution_count": 16,
   "metadata": {},
   "outputs": [
    {
     "data": {
      "text/plain": [
       "<pandas.core.groupby.generic.DataFrameGroupBy object at 0x10931ea90>"
      ]
     },
     "execution_count": 16,
     "metadata": {},
     "output_type": "execute_result"
    }
   ],
   "source": [
    "tree.groupby('ftype')"
   ]
  },
  {
   "cell_type": "markdown",
   "metadata": {},
   "source": [
    "Результат группировки от нас скрыт, он хранится в объекте особого типа `DataFrameGroupBy`. Чтобы посмотреть, что внутри, воспользуемся циклом:"
   ]
  },
  {
   "cell_type": "code",
   "execution_count": 18,
   "metadata": {},
   "outputs": [],
   "source": [
    "for g in tree.groupby('ftype'):\n",
    "    print(g)"
   ]
  },
  {
   "cell_type": "markdown",
   "metadata": {},
   "source": [
    "Цикл выше выдает нам кортежи, в которых заключены пары значений: название группы и маленький датафрейм со строками, соответствующими этой группе. Для чего это можно использовать? Например, для сохранения данных по каждой группе в отдельный файл. Сделаем перебор в цикле сразу по элементам внутри пары (вспомните словари и  перебор по `.items()`):"
   ]
  },
  {
   "cell_type": "code",
   "execution_count": 19,
   "metadata": {},
   "outputs": [],
   "source": [
    "# на первом месте название, на втором – датафрейм\n",
    "\n",
    "for name, dat in tree.groupby('ftype'):\n",
    "    dat.to_csv(name + \".csv\")"
   ]
  },
  {
   "cell_type": "markdown",
   "metadata": {},
   "source": [
    "Теперь в рабочей папке появились четыре файла, один для каждого типа дерева. "
   ]
  },
  {
   "cell_type": "markdown",
   "metadata": {},
   "source": [
    "Перейдем к агрегированию. Тут на помощь придет метод `.agg()`, который выполняет агрегирование по группам. Сгруппируем данные по столбцу `ftype` и посчитаем для каждого столбца среднее значение."
   ]
  },
  {
   "cell_type": "code",
   "execution_count": 20,
   "metadata": {},
   "outputs": [
    {
     "data": {
      "text/html": [
       "<div>\n",
       "<style scoped>\n",
       "    .dataframe tbody tr th:only-of-type {\n",
       "        vertical-align: middle;\n",
       "    }\n",
       "\n",
       "    .dataframe tbody tr th {\n",
       "        vertical-align: top;\n",
       "    }\n",
       "\n",
       "    .dataframe thead th {\n",
       "        text-align: right;\n",
       "    }\n",
       "</style>\n",
       "<table border=\"1\" class=\"dataframe\">\n",
       "  <thead>\n",
       "    <tr style=\"text-align: right;\">\n",
       "      <th></th>\n",
       "      <th>Unnamed: 0</th>\n",
       "      <th>height</th>\n",
       "      <th>score</th>\n",
       "      <th>expenses</th>\n",
       "      <th>female</th>\n",
       "      <th>yes</th>\n",
       "    </tr>\n",
       "    <tr>\n",
       "      <th>ftype</th>\n",
       "      <th></th>\n",
       "      <th></th>\n",
       "      <th></th>\n",
       "      <th></th>\n",
       "      <th></th>\n",
       "      <th></th>\n",
       "    </tr>\n",
       "  </thead>\n",
       "  <tbody>\n",
       "    <tr>\n",
       "      <td>ель обыкновенная</td>\n",
       "      <td>575.895349</td>\n",
       "      <td>155.503876</td>\n",
       "      <td>2.980620</td>\n",
       "      <td>1603.813953</td>\n",
       "      <td>0.542636</td>\n",
       "      <td>0.480620</td>\n",
       "    </tr>\n",
       "    <tr>\n",
       "      <td>пихта Нобилис</td>\n",
       "      <td>623.076687</td>\n",
       "      <td>160.101227</td>\n",
       "      <td>3.082822</td>\n",
       "      <td>1634.463190</td>\n",
       "      <td>0.555215</td>\n",
       "      <td>0.527607</td>\n",
       "    </tr>\n",
       "    <tr>\n",
       "      <td>сосна Крым</td>\n",
       "      <td>596.599388</td>\n",
       "      <td>160.657492</td>\n",
       "      <td>2.987768</td>\n",
       "      <td>1572.076453</td>\n",
       "      <td>0.495413</td>\n",
       "      <td>0.492355</td>\n",
       "    </tr>\n",
       "    <tr>\n",
       "      <td>сосна датская</td>\n",
       "      <td>601.411765</td>\n",
       "      <td>159.280277</td>\n",
       "      <td>2.958478</td>\n",
       "      <td>1709.916955</td>\n",
       "      <td>0.446367</td>\n",
       "      <td>0.532872</td>\n",
       "    </tr>\n",
       "  </tbody>\n",
       "</table>\n",
       "</div>"
      ],
      "text/plain": [
       "                  Unnamed: 0      height     score     expenses    female  \\\n",
       "ftype                                                                       \n",
       "ель обыкновенная  575.895349  155.503876  2.980620  1603.813953  0.542636   \n",
       "пихта Нобилис     623.076687  160.101227  3.082822  1634.463190  0.555215   \n",
       "сосна Крым        596.599388  160.657492  2.987768  1572.076453  0.495413   \n",
       "сосна датская     601.411765  159.280277  2.958478  1709.916955  0.446367   \n",
       "\n",
       "                       yes  \n",
       "ftype                       \n",
       "ель обыкновенная  0.480620  \n",
       "пихта Нобилис     0.527607  \n",
       "сосна Крым        0.492355  \n",
       "сосна датская     0.532872  "
      ]
     },
     "execution_count": 20,
     "metadata": {},
     "output_type": "execute_result"
    }
   ],
   "source": [
    "tree.groupby('ftype').agg('mean')"
   ]
  },
  {
   "cell_type": "markdown",
   "metadata": {},
   "source": [
    "Столбцы текстового типа были исключены из расчетов, так как метод для вычисления среднего к ним неприменим. Если нам нужно сразу несколько характеристик сразу, их нужно перечислить в виде списка. Посчитаем среднее, медиану и число заполненных ячеек:"
   ]
  },
  {
   "cell_type": "code",
   "execution_count": 24,
   "metadata": {},
   "outputs": [
    {
     "data": {
      "text/html": [
       "<div>\n",
       "<style scoped>\n",
       "    .dataframe tbody tr th:only-of-type {\n",
       "        vertical-align: middle;\n",
       "    }\n",
       "\n",
       "    .dataframe tbody tr th {\n",
       "        vertical-align: top;\n",
       "    }\n",
       "\n",
       "    .dataframe thead tr th {\n",
       "        text-align: left;\n",
       "    }\n",
       "\n",
       "    .dataframe thead tr:last-of-type th {\n",
       "        text-align: right;\n",
       "    }\n",
       "</style>\n",
       "<table border=\"1\" class=\"dataframe\">\n",
       "  <thead>\n",
       "    <tr>\n",
       "      <th></th>\n",
       "      <th colspan=\"3\" halign=\"left\">Unnamed: 0</th>\n",
       "      <th colspan=\"3\" halign=\"left\">height</th>\n",
       "      <th colspan=\"3\" halign=\"left\">score</th>\n",
       "      <th colspan=\"3\" halign=\"left\">expenses</th>\n",
       "      <th colspan=\"3\" halign=\"left\">female</th>\n",
       "      <th colspan=\"3\" halign=\"left\">yes</th>\n",
       "    </tr>\n",
       "    <tr>\n",
       "      <th></th>\n",
       "      <th>mean</th>\n",
       "      <th>median</th>\n",
       "      <th>count</th>\n",
       "      <th>mean</th>\n",
       "      <th>median</th>\n",
       "      <th>count</th>\n",
       "      <th>mean</th>\n",
       "      <th>median</th>\n",
       "      <th>count</th>\n",
       "      <th>mean</th>\n",
       "      <th>median</th>\n",
       "      <th>count</th>\n",
       "      <th>mean</th>\n",
       "      <th>median</th>\n",
       "      <th>count</th>\n",
       "      <th>mean</th>\n",
       "      <th>median</th>\n",
       "      <th>count</th>\n",
       "    </tr>\n",
       "    <tr>\n",
       "      <th>ftype</th>\n",
       "      <th></th>\n",
       "      <th></th>\n",
       "      <th></th>\n",
       "      <th></th>\n",
       "      <th></th>\n",
       "      <th></th>\n",
       "      <th></th>\n",
       "      <th></th>\n",
       "      <th></th>\n",
       "      <th></th>\n",
       "      <th></th>\n",
       "      <th></th>\n",
       "      <th></th>\n",
       "      <th></th>\n",
       "      <th></th>\n",
       "      <th></th>\n",
       "      <th></th>\n",
       "      <th></th>\n",
       "    </tr>\n",
       "  </thead>\n",
       "  <tbody>\n",
       "    <tr>\n",
       "      <td>ель обыкновенная</td>\n",
       "      <td>575.895349</td>\n",
       "      <td>570.5</td>\n",
       "      <td>258</td>\n",
       "      <td>155.503876</td>\n",
       "      <td>149.0</td>\n",
       "      <td>258</td>\n",
       "      <td>2.980620</td>\n",
       "      <td>3</td>\n",
       "      <td>258</td>\n",
       "      <td>1603.813953</td>\n",
       "      <td>1580</td>\n",
       "      <td>258</td>\n",
       "      <td>0.542636</td>\n",
       "      <td>1</td>\n",
       "      <td>258</td>\n",
       "      <td>0.480620</td>\n",
       "      <td>0</td>\n",
       "      <td>258</td>\n",
       "    </tr>\n",
       "    <tr>\n",
       "      <td>пихта Нобилис</td>\n",
       "      <td>623.076687</td>\n",
       "      <td>639.5</td>\n",
       "      <td>326</td>\n",
       "      <td>160.101227</td>\n",
       "      <td>159.5</td>\n",
       "      <td>326</td>\n",
       "      <td>3.082822</td>\n",
       "      <td>3</td>\n",
       "      <td>326</td>\n",
       "      <td>1634.463190</td>\n",
       "      <td>1634</td>\n",
       "      <td>326</td>\n",
       "      <td>0.555215</td>\n",
       "      <td>1</td>\n",
       "      <td>326</td>\n",
       "      <td>0.527607</td>\n",
       "      <td>1</td>\n",
       "      <td>326</td>\n",
       "    </tr>\n",
       "    <tr>\n",
       "      <td>сосна Крым</td>\n",
       "      <td>596.599388</td>\n",
       "      <td>614.0</td>\n",
       "      <td>327</td>\n",
       "      <td>160.657492</td>\n",
       "      <td>157.0</td>\n",
       "      <td>327</td>\n",
       "      <td>2.987768</td>\n",
       "      <td>3</td>\n",
       "      <td>327</td>\n",
       "      <td>1572.076453</td>\n",
       "      <td>1552</td>\n",
       "      <td>327</td>\n",
       "      <td>0.495413</td>\n",
       "      <td>0</td>\n",
       "      <td>327</td>\n",
       "      <td>0.492355</td>\n",
       "      <td>0</td>\n",
       "      <td>327</td>\n",
       "    </tr>\n",
       "    <tr>\n",
       "      <td>сосна датская</td>\n",
       "      <td>601.411765</td>\n",
       "      <td>557.0</td>\n",
       "      <td>289</td>\n",
       "      <td>159.280277</td>\n",
       "      <td>159.0</td>\n",
       "      <td>289</td>\n",
       "      <td>2.958478</td>\n",
       "      <td>3</td>\n",
       "      <td>289</td>\n",
       "      <td>1709.916955</td>\n",
       "      <td>1795</td>\n",
       "      <td>289</td>\n",
       "      <td>0.446367</td>\n",
       "      <td>0</td>\n",
       "      <td>289</td>\n",
       "      <td>0.532872</td>\n",
       "      <td>1</td>\n",
       "      <td>289</td>\n",
       "    </tr>\n",
       "  </tbody>\n",
       "</table>\n",
       "</div>"
      ],
      "text/plain": [
       "                  Unnamed: 0                   height                  score  \\\n",
       "                        mean median count        mean median count      mean   \n",
       "ftype                                                                          \n",
       "ель обыкновенная  575.895349  570.5   258  155.503876  149.0   258  2.980620   \n",
       "пихта Нобилис     623.076687  639.5   326  160.101227  159.5   326  3.082822   \n",
       "сосна Крым        596.599388  614.0   327  160.657492  157.0   327  2.987768   \n",
       "сосна датская     601.411765  557.0   289  159.280277  159.0   289  2.958478   \n",
       "\n",
       "                                  expenses                 female         \\\n",
       "                 median count         mean median count      mean median   \n",
       "ftype                                                                      \n",
       "ель обыкновенная      3   258  1603.813953   1580   258  0.542636      1   \n",
       "пихта Нобилис         3   326  1634.463190   1634   326  0.555215      1   \n",
       "сосна Крым            3   327  1572.076453   1552   327  0.495413      0   \n",
       "сосна датская         3   289  1709.916955   1795   289  0.446367      0   \n",
       "\n",
       "                             yes               \n",
       "                 count      mean median count  \n",
       "ftype                                          \n",
       "ель обыкновенная   258  0.480620      0   258  \n",
       "пихта Нобилис      326  0.527607      1   326  \n",
       "сосна Крым         327  0.492355      0   327  \n",
       "сосна датская      289  0.532872      1   289  "
      ]
     },
     "execution_count": 24,
     "metadata": {},
     "output_type": "execute_result"
    }
   ],
   "source": [
    "tree.groupby('ftype').agg(['mean', 'median', 'count']) "
   ]
  },
  {
   "cell_type": "markdown",
   "metadata": {},
   "source": [
    "В результате получили датафрейм с более сложной структурой, где внутри одного столбца содержится несколько маленьких. \n",
    "\n",
    "Как быть, если мы хотим для одного столбца посчитать одну характеристику по группам, а для другого – другую? Задать наши пожелания в виде словаря внутри `.agg()`. Посчитаем для столбца `height` среднее и стандартное отклонение, а для столбца `score` – медиану:"
   ]
  },
  {
   "cell_type": "code",
   "execution_count": 21,
   "metadata": {},
   "outputs": [
    {
     "data": {
      "text/html": [
       "<div>\n",
       "<style scoped>\n",
       "    .dataframe tbody tr th:only-of-type {\n",
       "        vertical-align: middle;\n",
       "    }\n",
       "\n",
       "    .dataframe tbody tr th {\n",
       "        vertical-align: top;\n",
       "    }\n",
       "\n",
       "    .dataframe thead tr th {\n",
       "        text-align: left;\n",
       "    }\n",
       "\n",
       "    .dataframe thead tr:last-of-type th {\n",
       "        text-align: right;\n",
       "    }\n",
       "</style>\n",
       "<table border=\"1\" class=\"dataframe\">\n",
       "  <thead>\n",
       "    <tr>\n",
       "      <th></th>\n",
       "      <th colspan=\"2\" halign=\"left\">height</th>\n",
       "      <th>score</th>\n",
       "    </tr>\n",
       "    <tr>\n",
       "      <th></th>\n",
       "      <th>mean</th>\n",
       "      <th>std</th>\n",
       "      <th>median</th>\n",
       "    </tr>\n",
       "    <tr>\n",
       "      <th>ftype</th>\n",
       "      <th></th>\n",
       "      <th></th>\n",
       "      <th></th>\n",
       "    </tr>\n",
       "  </thead>\n",
       "  <tbody>\n",
       "    <tr>\n",
       "      <td>ель обыкновенная</td>\n",
       "      <td>155.503876</td>\n",
       "      <td>53.209976</td>\n",
       "      <td>3</td>\n",
       "    </tr>\n",
       "    <tr>\n",
       "      <td>пихта Нобилис</td>\n",
       "      <td>160.101227</td>\n",
       "      <td>52.472283</td>\n",
       "      <td>3</td>\n",
       "    </tr>\n",
       "    <tr>\n",
       "      <td>сосна Крым</td>\n",
       "      <td>160.657492</td>\n",
       "      <td>49.903024</td>\n",
       "      <td>3</td>\n",
       "    </tr>\n",
       "    <tr>\n",
       "      <td>сосна датская</td>\n",
       "      <td>159.280277</td>\n",
       "      <td>51.564492</td>\n",
       "      <td>3</td>\n",
       "    </tr>\n",
       "  </tbody>\n",
       "</table>\n",
       "</div>"
      ],
      "text/plain": [
       "                      height             score\n",
       "                        mean        std median\n",
       "ftype                                         \n",
       "ель обыкновенная  155.503876  53.209976      3\n",
       "пихта Нобилис     160.101227  52.472283      3\n",
       "сосна Крым        160.657492  49.903024      3\n",
       "сосна датская     159.280277  51.564492      3"
      ]
     },
     "execution_count": 21,
     "metadata": {},
     "output_type": "execute_result"
    }
   ],
   "source": [
    "# ключи в словаре – названия столбцов\n",
    "# значения в словаре – нужные характеристики\n",
    "\n",
    "gr = tree.groupby('ftype').agg({'height' : ['mean', 'std'], \n",
    "                          'score': 'median'}) \n",
    "gr"
   ]
  },
  {
   "cell_type": "markdown",
   "metadata": {},
   "source": [
    "В заключение отметим, что внутрь метода `.agg()` можно помещать название функции, написанной самостоятельно (не встроенные `mean`, `std` и прочие), только тогда ее название должно указываться без кавычек. Более сложный пример с группировкой и агрегированием можно посмотреть [здесь](https://nbviewer.jupyter.org/github/PyBasics-19/py-basics-19/blob/master/lectures/pandas-part2.ipynb)."
   ]
  },
  {
   "cell_type": "markdown",
   "metadata": {},
   "source": [
    "### Результаты агрегирования и мультииндексы "
   ]
  },
  {
   "cell_type": "markdown",
   "metadata": {},
   "source": [
    "Результат группировки и агрегирования выше мы сохранили в переменную `gr`. Давайте посмотрим на структуру этого датафрейма. Запросим названия столбцов:"
   ]
  },
  {
   "cell_type": "code",
   "execution_count": 22,
   "metadata": {},
   "outputs": [
    {
     "data": {
      "text/plain": [
       "MultiIndex([('height',   'mean'),\n",
       "            ('height',    'std'),\n",
       "            ( 'score', 'median')],\n",
       "           )"
      ]
     },
     "execution_count": 22,
     "metadata": {},
     "output_type": "execute_result"
    }
   ],
   "source": [
    "gr.columns"
   ]
  },
  {
   "cell_type": "markdown",
   "metadata": {},
   "source": [
    "Объект выше имеет особый тип *MultiIndex*, при этом его элементами являются кортежи – пары строк *название столбца - название показателя*. Это объяснимо: ранее мы заметили, что столбцы в `gr` имеют вложенную структуру, поэтому, чтобы дойти, например, до столбца со стандартным отклонением высоты деревьев, сначала придется зайти внутрь столбца `height`. \n",
    "\n",
    "Строки здесь у нас пока обычные, поэтому внутри `.index` чего-то совсем нового нет:"
   ]
  },
  {
   "cell_type": "code",
   "execution_count": 23,
   "metadata": {},
   "outputs": [
    {
     "data": {
      "text/plain": [
       "Index(['ель обыкновенная', 'пихта Нобилис', 'сосна Крым', 'сосна датская'], dtype='object', name='ftype')"
      ]
     },
     "execution_count": 23,
     "metadata": {},
     "output_type": "execute_result"
    }
   ],
   "source": [
    "gr.index"
   ]
  },
  {
   "cell_type": "markdown",
   "metadata": {},
   "source": [
    "Если нам понадобится извлечь из `gr` данные по пихте Нобилис, мы сможем воспользоваться методом `.loc`:"
   ]
  },
  {
   "cell_type": "code",
   "execution_count": 24,
   "metadata": {},
   "outputs": [
    {
     "data": {
      "text/plain": [
       "height  mean      160.101227\n",
       "        std        52.472283\n",
       "score   median      3.000000\n",
       "Name: пихта Нобилис, dtype: float64"
      ]
     },
     "execution_count": 24,
     "metadata": {},
     "output_type": "execute_result"
    }
   ],
   "source": [
    "# строка пихта Нобилис, все столбцы\n",
    "\n",
    "gr.loc[\"пихта Нобилис\", :]"
   ]
  },
  {
   "cell_type": "markdown",
   "metadata": {},
   "source": [
    "Если мы захотим извлечь данные по высоте пихты Нобилис, укажем в `loc` обе координаты, название строки и название столбца:"
   ]
  },
  {
   "cell_type": "code",
   "execution_count": 25,
   "metadata": {},
   "outputs": [
    {
     "data": {
      "text/plain": [
       "mean    160.101227\n",
       "std      52.472283\n",
       "Name: пихта Нобилис, dtype: float64"
      ]
     },
     "execution_count": 25,
     "metadata": {},
     "output_type": "execute_result"
    }
   ],
   "source": [
    "gr.loc[\"пихта Нобилис\", \"height\"]"
   ]
  },
  {
   "cell_type": "markdown",
   "metadata": {},
   "source": [
    "А вот уже из таблицы выше мы сможем извлечь отдельное значение – среднее:"
   ]
  },
  {
   "cell_type": "code",
   "execution_count": 26,
   "metadata": {},
   "outputs": [
    {
     "data": {
      "text/plain": [
       "160.10122699386503"
      ]
     },
     "execution_count": 26,
     "metadata": {},
     "output_type": "execute_result"
    }
   ],
   "source": [
    "gr.loc[\"пихта Нобилис\", \"height\"][\"mean\"]"
   ]
  },
  {
   "cell_type": "markdown",
   "metadata": {},
   "source": [
    "Иногда методов `loc` и `iloc` недостаточно. Особенно, если мы имеем дело с более сложным датафреймом, где мультииндексы присутствуют как в строках, так и в столбцах. Такой датафрейм может получиться, если группировка производится более, чем по одному показателю. Сгруппируем данные по типу дерева и по полу респондента и посмотрим, на сколько, в среднем, женщины и мужчины оценили деревья разных видов:"
   ]
  },
  {
   "cell_type": "code",
   "execution_count": 27,
   "metadata": {},
   "outputs": [
    {
     "data": {
      "text/html": [
       "<div>\n",
       "<style scoped>\n",
       "    .dataframe tbody tr th:only-of-type {\n",
       "        vertical-align: middle;\n",
       "    }\n",
       "\n",
       "    .dataframe tbody tr th {\n",
       "        vertical-align: top;\n",
       "    }\n",
       "\n",
       "    .dataframe thead tr th {\n",
       "        text-align: left;\n",
       "    }\n",
       "\n",
       "    .dataframe thead tr:last-of-type th {\n",
       "        text-align: right;\n",
       "    }\n",
       "</style>\n",
       "<table border=\"1\" class=\"dataframe\">\n",
       "  <thead>\n",
       "    <tr>\n",
       "      <th></th>\n",
       "      <th></th>\n",
       "      <th colspan=\"2\" halign=\"left\">score</th>\n",
       "    </tr>\n",
       "    <tr>\n",
       "      <th></th>\n",
       "      <th></th>\n",
       "      <th>mean</th>\n",
       "      <th>median</th>\n",
       "    </tr>\n",
       "    <tr>\n",
       "      <th>ftype</th>\n",
       "      <th>gender</th>\n",
       "      <th></th>\n",
       "      <th></th>\n",
       "    </tr>\n",
       "  </thead>\n",
       "  <tbody>\n",
       "    <tr>\n",
       "      <td rowspan=\"2\" valign=\"top\">ель обыкновенная</td>\n",
       "      <td>female</td>\n",
       "      <td>3.050000</td>\n",
       "      <td>3</td>\n",
       "    </tr>\n",
       "    <tr>\n",
       "      <td>male</td>\n",
       "      <td>2.898305</td>\n",
       "      <td>3</td>\n",
       "    </tr>\n",
       "    <tr>\n",
       "      <td rowspan=\"2\" valign=\"top\">пихта Нобилис</td>\n",
       "      <td>female</td>\n",
       "      <td>3.088398</td>\n",
       "      <td>3</td>\n",
       "    </tr>\n",
       "    <tr>\n",
       "      <td>male</td>\n",
       "      <td>3.075862</td>\n",
       "      <td>3</td>\n",
       "    </tr>\n",
       "    <tr>\n",
       "      <td rowspan=\"2\" valign=\"top\">сосна Крым</td>\n",
       "      <td>female</td>\n",
       "      <td>2.981481</td>\n",
       "      <td>3</td>\n",
       "    </tr>\n",
       "    <tr>\n",
       "      <td>male</td>\n",
       "      <td>2.993939</td>\n",
       "      <td>3</td>\n",
       "    </tr>\n",
       "    <tr>\n",
       "      <td rowspan=\"2\" valign=\"top\">сосна датская</td>\n",
       "      <td>female</td>\n",
       "      <td>2.891473</td>\n",
       "      <td>3</td>\n",
       "    </tr>\n",
       "    <tr>\n",
       "      <td>male</td>\n",
       "      <td>3.012500</td>\n",
       "      <td>3</td>\n",
       "    </tr>\n",
       "  </tbody>\n",
       "</table>\n",
       "</div>"
      ],
      "text/plain": [
       "                            score       \n",
       "                             mean median\n",
       "ftype            gender                 \n",
       "ель обыкновенная female  3.050000      3\n",
       "                 male    2.898305      3\n",
       "пихта Нобилис    female  3.088398      3\n",
       "                 male    3.075862      3\n",
       "сосна Крым       female  2.981481      3\n",
       "                 male    2.993939      3\n",
       "сосна датская    female  2.891473      3\n",
       "                 male    3.012500      3"
      ]
     },
     "execution_count": 27,
     "metadata": {},
     "output_type": "execute_result"
    }
   ],
   "source": [
    "gr2 = tree.groupby(['ftype', 'gender']).agg({'score':\n",
    "                                             ['mean', 'median']})\n",
    "gr2"
   ]
  },
  {
   "cell_type": "markdown",
   "metadata": {},
   "source": [
    "Как из такого датафрейма извлечь данные, соответствующие только женщинам, то есть извлечь только строки, где в `gender` указано \"female\"? Для этого существует метод `.xs()`, который позволяет извлечь данные с учетом определенного уровня группировки. Здесь у нас два уровня группировки – `ftype` и `gender`. Мы же хотим получить все данные, где уровень `gender` равен \"female\". "
   ]
  },
  {
   "cell_type": "code",
   "execution_count": 28,
   "metadata": {},
   "outputs": [
    {
     "data": {
      "text/html": [
       "<div>\n",
       "<style scoped>\n",
       "    .dataframe tbody tr th:only-of-type {\n",
       "        vertical-align: middle;\n",
       "    }\n",
       "\n",
       "    .dataframe tbody tr th {\n",
       "        vertical-align: top;\n",
       "    }\n",
       "\n",
       "    .dataframe thead tr th {\n",
       "        text-align: left;\n",
       "    }\n",
       "\n",
       "    .dataframe thead tr:last-of-type th {\n",
       "        text-align: right;\n",
       "    }\n",
       "</style>\n",
       "<table border=\"1\" class=\"dataframe\">\n",
       "  <thead>\n",
       "    <tr>\n",
       "      <th></th>\n",
       "      <th colspan=\"2\" halign=\"left\">score</th>\n",
       "    </tr>\n",
       "    <tr>\n",
       "      <th></th>\n",
       "      <th>mean</th>\n",
       "      <th>median</th>\n",
       "    </tr>\n",
       "    <tr>\n",
       "      <th>ftype</th>\n",
       "      <th></th>\n",
       "      <th></th>\n",
       "    </tr>\n",
       "  </thead>\n",
       "  <tbody>\n",
       "    <tr>\n",
       "      <td>ель обыкновенная</td>\n",
       "      <td>3.050000</td>\n",
       "      <td>3</td>\n",
       "    </tr>\n",
       "    <tr>\n",
       "      <td>пихта Нобилис</td>\n",
       "      <td>3.088398</td>\n",
       "      <td>3</td>\n",
       "    </tr>\n",
       "    <tr>\n",
       "      <td>сосна Крым</td>\n",
       "      <td>2.981481</td>\n",
       "      <td>3</td>\n",
       "    </tr>\n",
       "    <tr>\n",
       "      <td>сосна датская</td>\n",
       "      <td>2.891473</td>\n",
       "      <td>3</td>\n",
       "    </tr>\n",
       "  </tbody>\n",
       "</table>\n",
       "</div>"
      ],
      "text/plain": [
       "                     score       \n",
       "                      mean median\n",
       "ftype                            \n",
       "ель обыкновенная  3.050000      3\n",
       "пихта Нобилис     3.088398      3\n",
       "сосна Крым        2.981481      3\n",
       "сосна датская     2.891473      3"
      ]
     },
     "execution_count": 28,
     "metadata": {},
     "output_type": "execute_result"
    }
   ],
   "source": [
    "gr2.xs('female', level = 'gender')"
   ]
  },
  {
   "cell_type": "markdown",
   "metadata": {},
   "source": [
    "Если бы нас интересовал уровень `ftype`, в данном случае результат, полученный с помощью `.xs()` не отличался бы от результата, полученного с помощью обычного `.loc`. Сравним:"
   ]
  },
  {
   "cell_type": "code",
   "execution_count": 29,
   "metadata": {},
   "outputs": [
    {
     "data": {
      "text/html": [
       "<div>\n",
       "<style scoped>\n",
       "    .dataframe tbody tr th:only-of-type {\n",
       "        vertical-align: middle;\n",
       "    }\n",
       "\n",
       "    .dataframe tbody tr th {\n",
       "        vertical-align: top;\n",
       "    }\n",
       "\n",
       "    .dataframe thead tr th {\n",
       "        text-align: left;\n",
       "    }\n",
       "\n",
       "    .dataframe thead tr:last-of-type th {\n",
       "        text-align: right;\n",
       "    }\n",
       "</style>\n",
       "<table border=\"1\" class=\"dataframe\">\n",
       "  <thead>\n",
       "    <tr>\n",
       "      <th></th>\n",
       "      <th colspan=\"2\" halign=\"left\">score</th>\n",
       "    </tr>\n",
       "    <tr>\n",
       "      <th></th>\n",
       "      <th>mean</th>\n",
       "      <th>median</th>\n",
       "    </tr>\n",
       "    <tr>\n",
       "      <th>gender</th>\n",
       "      <th></th>\n",
       "      <th></th>\n",
       "    </tr>\n",
       "  </thead>\n",
       "  <tbody>\n",
       "    <tr>\n",
       "      <td>female</td>\n",
       "      <td>2.981481</td>\n",
       "      <td>3</td>\n",
       "    </tr>\n",
       "    <tr>\n",
       "      <td>male</td>\n",
       "      <td>2.993939</td>\n",
       "      <td>3</td>\n",
       "    </tr>\n",
       "  </tbody>\n",
       "</table>\n",
       "</div>"
      ],
      "text/plain": [
       "           score       \n",
       "            mean median\n",
       "gender                 \n",
       "female  2.981481      3\n",
       "male    2.993939      3"
      ]
     },
     "execution_count": 29,
     "metadata": {},
     "output_type": "execute_result"
    }
   ],
   "source": [
    "gr2.xs('сосна Крым', level = 'ftype')"
   ]
  },
  {
   "cell_type": "code",
   "execution_count": 30,
   "metadata": {},
   "outputs": [
    {
     "data": {
      "text/html": [
       "<div>\n",
       "<style scoped>\n",
       "    .dataframe tbody tr th:only-of-type {\n",
       "        vertical-align: middle;\n",
       "    }\n",
       "\n",
       "    .dataframe tbody tr th {\n",
       "        vertical-align: top;\n",
       "    }\n",
       "\n",
       "    .dataframe thead tr th {\n",
       "        text-align: left;\n",
       "    }\n",
       "\n",
       "    .dataframe thead tr:last-of-type th {\n",
       "        text-align: right;\n",
       "    }\n",
       "</style>\n",
       "<table border=\"1\" class=\"dataframe\">\n",
       "  <thead>\n",
       "    <tr>\n",
       "      <th></th>\n",
       "      <th colspan=\"2\" halign=\"left\">score</th>\n",
       "    </tr>\n",
       "    <tr>\n",
       "      <th></th>\n",
       "      <th>mean</th>\n",
       "      <th>median</th>\n",
       "    </tr>\n",
       "    <tr>\n",
       "      <th>gender</th>\n",
       "      <th></th>\n",
       "      <th></th>\n",
       "    </tr>\n",
       "  </thead>\n",
       "  <tbody>\n",
       "    <tr>\n",
       "      <td>female</td>\n",
       "      <td>2.981481</td>\n",
       "      <td>3</td>\n",
       "    </tr>\n",
       "    <tr>\n",
       "      <td>male</td>\n",
       "      <td>2.993939</td>\n",
       "      <td>3</td>\n",
       "    </tr>\n",
       "  </tbody>\n",
       "</table>\n",
       "</div>"
      ],
      "text/plain": [
       "           score       \n",
       "            mean median\n",
       "gender                 \n",
       "female  2.981481      3\n",
       "male    2.993939      3"
      ]
     },
     "execution_count": 30,
     "metadata": {},
     "output_type": "execute_result"
    }
   ],
   "source": [
    "gr2.loc['сосна Крым', :]"
   ]
  }
 ],
 "metadata": {
  "kernelspec": {
   "display_name": "Python 3",
   "language": "python",
   "name": "python3"
  },
  "language_info": {
   "codemirror_mode": {
    "name": "ipython",
    "version": 3
   },
   "file_extension": ".py",
   "mimetype": "text/x-python",
   "name": "python",
   "nbconvert_exporter": "python",
   "pygments_lexer": "ipython3",
   "version": "3.7.4"
  }
 },
 "nbformat": 4,
 "nbformat_minor": 2
}
