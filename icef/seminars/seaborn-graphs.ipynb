{
 "cells": [
  {
   "cell_type": "markdown",
   "metadata": {},
   "source": [
    "# Python для сбора данных\n",
    "## Визуализация данных с `seaborn`\n",
    "\n",
    "*Алла Тамбовцева, НИУ ВШЭ*"
   ]
  },
  {
   "cell_type": "markdown",
   "metadata": {},
   "source": [
    "В этой лекции мы будем строить графики для визуализации распределения данных с помощью библиотеки `seaborn`. Эту библиотеку можно считать некоторой «надстройкой» над библиотекой `matplotlib`, которая предлагает более удобные функции для построения графиков разных видов и более симпатичный дизайн для графиков. Для начала установим её. "
   ]
  },
  {
   "cell_type": "code",
   "execution_count": null,
   "metadata": {},
   "outputs": [],
   "source": [
    "!pip install seaborn"
   ]
  },
  {
   "cell_type": "markdown",
   "metadata": {},
   "source": [
    "Теперь импортируем эту библиотеку с сокращённым названием `sns`, а заодно импортируем модуль `pyplot` из `matplotlib`, который нам тоже понадобится для настройки графиков. "
   ]
  },
  {
   "cell_type": "code",
   "execution_count": 1,
   "metadata": {},
   "outputs": [],
   "source": [
    "import matplotlib.pyplot as plt\n",
    "import seaborn as sns"
   ]
  },
  {
   "cell_type": "markdown",
   "metadata": {},
   "source": [
    "Теперь сделаем так, чтобы все графики далее строились с использованием настроек по умолчанию из `seaborn`, а не из `matplotlib` (более красиво, так как автоматически добавляется светло-серый фон графика, сетка и прочее)."
   ]
  },
  {
   "cell_type": "code",
   "execution_count": 2,
   "metadata": {},
   "outputs": [],
   "source": [
    "sns.set()"
   ]
  },
  {
   "cell_type": "markdown",
   "metadata": {},
   "source": [
    "Загрузим данные из файла `Chile.csv`, сохраним их в датафрейм и удалим строки с пропущенными значениями (многие функции для графики не работают в случае, если в визуализируемых данных остались `NaN`, при желании пропуски можно не удалять, а заполнить с помощью метода `.fillna()`."
   ]
  },
  {
   "cell_type": "code",
   "execution_count": 5,
   "metadata": {},
   "outputs": [
    {
     "data": {
      "text/html": [
       "<div>\n",
       "<style scoped>\n",
       "    .dataframe tbody tr th:only-of-type {\n",
       "        vertical-align: middle;\n",
       "    }\n",
       "\n",
       "    .dataframe tbody tr th {\n",
       "        vertical-align: top;\n",
       "    }\n",
       "\n",
       "    .dataframe thead th {\n",
       "        text-align: right;\n",
       "    }\n",
       "</style>\n",
       "<table border=\"1\" class=\"dataframe\">\n",
       "  <thead>\n",
       "    <tr style=\"text-align: right;\">\n",
       "      <th></th>\n",
       "      <th>Unnamed: 0</th>\n",
       "      <th>region</th>\n",
       "      <th>population</th>\n",
       "      <th>sex</th>\n",
       "      <th>age</th>\n",
       "      <th>education</th>\n",
       "      <th>income</th>\n",
       "      <th>statusquo</th>\n",
       "      <th>vote</th>\n",
       "    </tr>\n",
       "  </thead>\n",
       "  <tbody>\n",
       "    <tr>\n",
       "      <td>0</td>\n",
       "      <td>1</td>\n",
       "      <td>N</td>\n",
       "      <td>175000</td>\n",
       "      <td>M</td>\n",
       "      <td>65.0</td>\n",
       "      <td>P</td>\n",
       "      <td>35000.0</td>\n",
       "      <td>1.00820</td>\n",
       "      <td>Y</td>\n",
       "    </tr>\n",
       "    <tr>\n",
       "      <td>1</td>\n",
       "      <td>2</td>\n",
       "      <td>N</td>\n",
       "      <td>175000</td>\n",
       "      <td>M</td>\n",
       "      <td>29.0</td>\n",
       "      <td>PS</td>\n",
       "      <td>7500.0</td>\n",
       "      <td>-1.29617</td>\n",
       "      <td>N</td>\n",
       "    </tr>\n",
       "    <tr>\n",
       "      <td>2</td>\n",
       "      <td>3</td>\n",
       "      <td>N</td>\n",
       "      <td>175000</td>\n",
       "      <td>F</td>\n",
       "      <td>38.0</td>\n",
       "      <td>P</td>\n",
       "      <td>15000.0</td>\n",
       "      <td>1.23072</td>\n",
       "      <td>Y</td>\n",
       "    </tr>\n",
       "    <tr>\n",
       "      <td>3</td>\n",
       "      <td>4</td>\n",
       "      <td>N</td>\n",
       "      <td>175000</td>\n",
       "      <td>F</td>\n",
       "      <td>49.0</td>\n",
       "      <td>P</td>\n",
       "      <td>35000.0</td>\n",
       "      <td>-1.03163</td>\n",
       "      <td>N</td>\n",
       "    </tr>\n",
       "    <tr>\n",
       "      <td>4</td>\n",
       "      <td>5</td>\n",
       "      <td>N</td>\n",
       "      <td>175000</td>\n",
       "      <td>F</td>\n",
       "      <td>23.0</td>\n",
       "      <td>S</td>\n",
       "      <td>35000.0</td>\n",
       "      <td>-1.10496</td>\n",
       "      <td>N</td>\n",
       "    </tr>\n",
       "  </tbody>\n",
       "</table>\n",
       "</div>"
      ],
      "text/plain": [
       "   Unnamed: 0 region  population sex   age education   income  statusquo vote\n",
       "0           1      N      175000   M  65.0         P  35000.0    1.00820    Y\n",
       "1           2      N      175000   M  29.0        PS   7500.0   -1.29617    N\n",
       "2           3      N      175000   F  38.0         P  15000.0    1.23072    Y\n",
       "3           4      N      175000   F  49.0         P  35000.0   -1.03163    N\n",
       "4           5      N      175000   F  23.0         S  35000.0   -1.10496    N"
      ]
     },
     "execution_count": 5,
     "metadata": {},
     "output_type": "execute_result"
    }
   ],
   "source": [
    "import pandas as pd\n",
    "ch = pd.read_csv(\"Chile.csv\")\n",
    "ch.dropna(inplace = True)\n",
    "ch.head() "
   ]
  },
  {
   "cell_type": "markdown",
   "metadata": {},
   "source": [
    "**Показатели:**\n",
    "\n",
    "* `region`: регион, где живет респондент (`C`, Central; `M`, Metropolitan Santiago area; `N`, North; `S`, South; `SA`, City of Santiago);\n",
    "* `sex`: пол респондента;\n",
    "* `population`: численность населения в регионе респондента;\n",
    "* `age`: возраст респондента;\n",
    "* `education`: уровень образования респондента (`P`, Primary; `PS`, Post-secondary; `S`, Secondary);\n",
    "* `income`: доход респондента;\n",
    "* `statusquo`: индекс отношения к статус-кво (чем больше значение, тем больше человек склонен одобрять сохранение статус-кво – нахождение Пиночета у власти);\n",
    "* `vote`: как респондент собирается голосовать (`A`, will abstain; `N`, will vote no – against Pinochet; `U`, undecided; `Y`, will vote yes – for Pinochet)."
   ]
  },
  {
   "cell_type": "markdown",
   "metadata": {},
   "source": [
    "### Гистограмма и график плотности распределения\n",
    "\n",
    "Построим простенькую гистограмму для столбца `age`. В `seaborn` нет отдельной функции для гистограммы, но есть функция `distplot()`, которая по умолчанию строит гистограмму и накладывает на неё сглаженный график плотности распределения (отсюда и название, *distplot* – от *distribution*)."
   ]
  },
  {
   "cell_type": "code",
   "execution_count": 6,
   "metadata": {},
   "outputs": [
    {
     "data": {
      "text/plain": [
       "<matplotlib.axes._subplots.AxesSubplot at 0x1a1e64b650>"
      ]
     },
     "execution_count": 6,
     "metadata": {},
     "output_type": "execute_result"
    },
    {
     "data": {
      "image/png": "[encoded data removed]",
      "text/plain": [
       "<Figure size 432x288 with 1 Axes>"
      ]
     },
     "metadata": {},
     "output_type": "display_data"
    }
   ],
   "source": [
    "sns.distplot(ch[\"age\"]) "
   ]
  },
  {
   "cell_type": "markdown",
   "metadata": {},
   "source": [
    "Давайте теперь уберём сглаженный график плотности и изменим цвет гистограммы."
   ]
  },
  {
   "cell_type": "code",
   "execution_count": 7,
   "metadata": {},
   "outputs": [
    {
     "data": {
      "text/plain": [
       "<matplotlib.axes._subplots.AxesSubplot at 0x1a1e553350>"
      ]
     },
     "execution_count": 7,
     "metadata": {},
     "output_type": "execute_result"
    },
    {
     "data": {
      "image/png": "[encoded data removed]",
      "text/plain": [
       "<Figure size 432x288 with 1 Axes>"
      ]
     },
     "metadata": {},
     "output_type": "display_data"
    }
   ],
   "source": [
    "sns.distplot(ch[\"age\"], kde = False, \n",
    "             color = \"limegreen\")"
   ]
  },
  {
   "cell_type": "markdown",
   "metadata": {},
   "source": [
    "Аргумент `kde` отвечает за наличие или отсутствие сглаженного графика плотности, и название его неслучайно. Аббревиатура `kde` происходит от *kernel density estimation* (ядерная оценка плотности), почитать можно [здесь](https://ru.wikipedia.org/wiki/%D0%AF%D0%B4%D0%B5%D1%80%D0%BD%D0%B0%D1%8F_%D0%BE%D1%86%D0%B5%D0%BD%D0%BA%D0%B0_%D0%BF%D0%BB%D0%BE%D1%82%D0%BD%D0%BE%D1%81%D1%82%D0%B8)."
   ]
  },
  {
   "cell_type": "markdown",
   "metadata": {},
   "source": [
    "Теперь добавим аргумент `bins` для настройки числа столбцов и особый аргумент `hist_kws` с перечнем аргументов для построения гистограммы:"
   ]
  },
  {
   "cell_type": "code",
   "execution_count": 12,
   "metadata": {},
   "outputs": [
    {
     "data": {
      "text/plain": [
       "<matplotlib.axes._subplots.AxesSubplot at 0x1a1f587290>"
      ]
     },
     "execution_count": 12,
     "metadata": {},
     "output_type": "execute_result"
    },
    {
     "data": {
      "image/png": "[encoded data removed]",
      "text/plain": [
       "<Figure size 432x288 with 1 Axes>"
      ]
     },
     "metadata": {},
     "output_type": "display_data"
    }
   ],
   "source": [
    "# alpha – прозрачность (1 - нет прозрачности)\n",
    "# edgecolor – цвет границ столбцов\n",
    "\n",
    "sns.distplot(ch[\"age\"], \n",
    "             kde = False, \n",
    "             color = \"limegreen\", \n",
    "             bins = 10, \n",
    "             hist_kws = {'alpha' : 0.75, \n",
    "                        'edgecolor' : 'black'})"
   ]
  },
  {
   "cell_type": "markdown",
   "metadata": {},
   "source": [
    "Аргументы для настройки гистограммы указываются особым образом, в виде словаря. На первый взгляд это кажется необычным, но если вспомнить про `kwargs` (*keywords arguments*) в функциях, всё встанет на свои места. Здесь внутри `hist_kws` (как раз *histogram keywords*) можно указывать сколько угодно аргументов для настройки вида гистограммы, но при этом нужно обязательно фиксировать их названия. В итоге получаем словарь с ключами в виде названий аргументов."
   ]
  },
  {
   "cell_type": "markdown",
   "metadata": {},
   "source": [
    "Если бы мы хотели сохранить наложенный график плотности на рисунке, можно было бы и его вид настроить аналогичным образом:"
   ]
  },
  {
   "cell_type": "code",
   "execution_count": 13,
   "metadata": {},
   "outputs": [
    {
     "data": {
      "text/plain": [
       "<matplotlib.axes._subplots.AxesSubplot at 0x1a1f415b10>"
      ]
     },
     "execution_count": 13,
     "metadata": {},
     "output_type": "execute_result"
    },
    {
     "data": {
      "image/png": "[encoded data removed]",
      "text/plain": [
       "<Figure size 432x288 with 1 Axes>"
      ]
     },
     "metadata": {},
     "output_type": "display_data"
    }
   ],
   "source": [
    "sns.distplot(ch[\"age\"], \n",
    "             color = \"limegreen\", \n",
    "             bins = 10, \n",
    "             hist_kws = {'alpha' : 0.75, \n",
    "                        'edgecolor' : 'black'},\n",
    "             kde_kws = {'color' : 'red'})"
   ]
  },
  {
   "cell_type": "markdown",
   "metadata": {},
   "source": [
    "Теперь добавим заголовок графика и подписи к осям. Сделать это можно с помощью методов из модуля `pyplot`, который мы сократили до `plt`:"
   ]
  },
  {
   "cell_type": "code",
   "execution_count": 14,
   "metadata": {},
   "outputs": [
    {
     "data": {
      "text/plain": [
       "Text(0.5, 1.0, 'Distribution of age')"
      ]
     },
     "execution_count": 14,
     "metadata": {},
     "output_type": "execute_result"
    },
    {
     "data": {
      "image/png": "[encoded data removed]",
      "text/plain": [
       "<Figure size 432x288 with 1 Axes>"
      ]
     },
     "metadata": {},
     "output_type": "display_data"
    }
   ],
   "source": [
    "sns.distplot(ch[\"age\"], \n",
    "             color = \"limegreen\", \n",
    "             bins = 10, \n",
    "             hist_kws = {'alpha' : 0.75, \n",
    "                        'edgecolor' : 'black'},\n",
    "             kde_kws = {'color' : 'red'})\n",
    "plt.xlabel(\"Age\")\n",
    "plt.ylabel(\"Counts\")\n",
    "plt.title(\"Distribution of age\")"
   ]
  },
  {
   "cell_type": "markdown",
   "metadata": {},
   "source": [
    "Добавить горизонтальную линию, которая отчерчивает определённую частоту можно с помощью того же модуля `plt`:"
   ]
  },
  {
   "cell_type": "code",
   "execution_count": 25,
   "metadata": {},
   "outputs": [
    {
     "data": {
      "text/plain": [
       "<matplotlib.collections.LineCollection at 0x1a2090e050>"
      ]
     },
     "execution_count": 25,
     "metadata": {},
     "output_type": "execute_result"
    },
    {
     "data": {
      "image/png": "[encoded data removed]",
      "text/plain": [
       "<Figure size 432x288 with 1 Axes>"
      ]
     },
     "metadata": {},
     "output_type": "display_data"
    }
   ],
   "source": [
    "sns.distplot(ch[\"age\"], \n",
    "             color = \"limegreen\", \n",
    "             kde = False,\n",
    "             bins = 10, \n",
    "             hist_kws = {'alpha' : 0.75, \n",
    "                        'edgecolor' : 'black'})\n",
    "plt.xlabel(\"Age\")\n",
    "plt.ylabel(\"Counts\")\n",
    "plt.title(\"Distribution of age\")\n",
    "\n",
    "# метод hlines\n",
    "plt.hlines(y = 250, xmin = 10, xmax = 80, \n",
    "          color = \"red\", linestyles = \"dashed\")"
   ]
  },
  {
   "cell_type": "markdown",
   "metadata": {},
   "source": [
    "В методе `.hlines()` необходимо указать не только необходимое значение по вертикальной оси (`y`), но и установить рамки по горизонтальной оси (`xmin` и `xmax`), даже если прямая должна проходить через весь график. Согласно документации, стилей для линии всего 4: `'solid'` (непрерывная линия), `'dashed'` (пунктирная линия), `'dashdot'` (точка-тире), `'dotted'` (линия из точек).\n",
    "\n",
    "Аналогичным образом можно добавить вертикальную линию через `.vlines()`:"
   ]
  },
  {
   "cell_type": "code",
   "execution_count": 29,
   "metadata": {},
   "outputs": [
    {
     "data": {
      "text/plain": [
       "<matplotlib.collections.LineCollection at 0x1a20677650>"
      ]
     },
     "execution_count": 29,
     "metadata": {},
     "output_type": "execute_result"
    },
    {
     "data": {
      "image/png": "[encoded data removed]",
      "text/plain": [
       "<Figure size 432x288 with 1 Axes>"
      ]
     },
     "metadata": {},
     "output_type": "display_data"
    }
   ],
   "source": [
    "sns.distplot(ch[\"age\"], \n",
    "             color = \"limegreen\", \n",
    "             kde = False,\n",
    "             bins = 10, \n",
    "             hist_kws = {'alpha' : 0.75, \n",
    "                        'edgecolor' : 'black'})\n",
    "plt.xlabel(\"Age\")\n",
    "plt.ylabel(\"Counts\")\n",
    "plt.title(\"Distribution of age\")\n",
    "\n",
    "# метод vlines\n",
    "# вертикальная линия отмечает среднее значение по столбцу\n",
    "plt.vlines(x = ch[\"age\"].mean(), ymin = 0, ymax = 500, \n",
    "          color = \"red\", linestyles = \"dotted\")"
   ]
  },
  {
   "cell_type": "markdown",
   "metadata": {},
   "source": [
    "Если нам нужен только сглаженный график плотности, можно воспользоваться функцией `kdeplot()`:"
   ]
  },
  {
   "cell_type": "code",
   "execution_count": 30,
   "metadata": {},
   "outputs": [
    {
     "data": {
      "text/plain": [
       "Text(0.5, 1.0, 'Age of responsents')"
      ]
     },
     "execution_count": 30,
     "metadata": {},
     "output_type": "execute_result"
    },
    {
     "data": {
      "image/png": "[encoded data removed]",
      "text/plain": [
       "<Figure size 432x288 with 1 Axes>"
      ]
     },
     "metadata": {},
     "output_type": "display_data"
    }
   ],
   "source": [
    "sns.kdeplot(ch[\"age\"], shade = True)\n",
    "plt.xlabel(\"Age\")\n",
    "plt.ylabel(\"Counts\")\n",
    "plt.title(\"Age of responsents\")"
   ]
  },
  {
   "cell_type": "markdown",
   "metadata": {},
   "source": [
    "В данном примере мы добавили опцию `shade=True`, чтобы площадь под графиком была закрашена. Сглаженные графики плотности иногда полезны, но стоит помнить, что из-за сглаживания они получаются менее точными, чем гистограммы, поэтому их не очень хорошо полезно использовать, когда данных мало или когда нам важны точные частоты или «пики» распределения.\n",
    "\n",
    "Иногда на такие графики добавляют так называемые *rugs* (нет точного термина на русском, можно рассматривать как засечки), которые будут показывать, сколько наблюдений на том или ином участке графика. Но такая опция есть только у `distplot()`:"
   ]
  },
  {
   "cell_type": "code",
   "execution_count": 38,
   "metadata": {},
   "outputs": [
    {
     "data": {
      "text/plain": [
       "Text(0.5, 1.0, 'Age of responsents')"
      ]
     },
     "execution_count": 38,
     "metadata": {},
     "output_type": "execute_result"
    },
    {
     "data": {
      "image/png": "[encoded data removed]",
      "text/plain": [
       "<Figure size 432x288 with 1 Axes>"
      ]
     },
     "metadata": {},
     "output_type": "display_data"
    }
   ],
   "source": [
    "# «выключаем» гистограмму\n",
    "# «включаем» rugs\n",
    "\n",
    "sns.distplot(ch[\"age\"], \n",
    "             hist = False, \n",
    "             rug = True)\n",
    "plt.xlabel(\"Age\")\n",
    "plt.ylabel(\"Counts\")\n",
    "plt.title(\"Age of responsents\")"
   ]
  },
  {
   "cell_type": "markdown",
   "metadata": {},
   "source": [
    "Теперь попробуем построить графики по группам. Посмотрим на распределение возраста респондентов, сгруппированных по региону и по полу. Для начала создадим шаблон для графика — график с множеством ячеек-фасеток, где каждая ячейка-фасетка соответствует одной группе. По строкам у нас будут идти значения пола (их два), по столбцам – значения региона (их пять):"
   ]
  },
  {
   "cell_type": "code",
   "execution_count": 39,
   "metadata": {},
   "outputs": [
    {
     "data": {
      "text/plain": [
       "<seaborn.axisgrid.FacetGrid at 0x1a2084ca90>"
      ]
     },
     "execution_count": 39,
     "metadata": {},
     "output_type": "execute_result"
    },
    {
     "data": {
      "image/png": "[encoded data removed]",
      "text/plain": [
       "<Figure size 1080x432 with 10 Axes>"
      ]
     },
     "metadata": {},
     "output_type": "display_data"
    }
   ],
   "source": [
    "# функция FacetGrid создает сетку\n",
    "# margin_titles – наличие подписей по строкам и столбцам\n",
    "\n",
    "g = sns.FacetGrid(ch, row=\"sex\", \n",
    "                  col=\"region\", \n",
    "                  margin_titles=True)\n",
    "g"
   ]
  },
  {
   "cell_type": "markdown",
   "metadata": {},
   "source": [
    "Осталось только сообщить, что за графики будут в каждой ячейке. Для этого применим метод `.map()` и укажем, что мы строим гистограмму (`hist`) для столбца `age`."
   ]
  },
  {
   "cell_type": "code",
   "execution_count": 41,
   "metadata": {},
   "outputs": [
    {
     "data": {
      "text/plain": [
       "<seaborn.axisgrid.FacetGrid at 0x1a24980210>"
      ]
     },
     "execution_count": 41,
     "metadata": {},
     "output_type": "execute_result"
    },
    {
     "data": {
      "image/png": "[encoded data removed]",
      "text/plain": [
       "<Figure size 1080x432 with 10 Axes>"
      ]
     },
     "metadata": {},
     "output_type": "display_data"
    }
   ],
   "source": [
    "g = sns.FacetGrid(ch, row=\"sex\", \n",
    "                  col=\"region\", \n",
    "                  margin_titles=True)\n",
    "g.map(plt.hist, \"age\", color=\"steelblue\")"
   ]
  },
  {
   "cell_type": "markdown",
   "metadata": {},
   "source": [
    "**Важно:** строки с `FacetGrid()` и `.map()` должны быть в одной ячейке, они связаны. "
   ]
  },
  {
   "cell_type": "markdown",
   "metadata": {},
   "source": [
    "### Столбиковая диаграмма\n",
    "\n",
    "Построим столбиковую диаграмму (*bar plot* или *bar chart*), чтобы показать, сколько респондентов из разных регионов участвовало в опросе. Для этого нам понадобится табличка с частотами для каждого названия региона. Создадим её с помощью уже знакомого метода `.value_counts()` и сохраним в переменную `tab`:"
   ]
  },
  {
   "cell_type": "code",
   "execution_count": 43,
   "metadata": {},
   "outputs": [
    {
     "data": {
      "text/plain": [
       "SA    848\n",
       "S     655\n",
       "C     548\n",
       "N     305\n",
       "M      75\n",
       "Name: region, dtype: int64"
      ]
     },
     "execution_count": 43,
     "metadata": {},
     "output_type": "execute_result"
    }
   ],
   "source": [
    "tab = ch[\"region\"].value_counts()\n",
    "tab"
   ]
  },
  {
   "cell_type": "markdown",
   "metadata": {},
   "source": [
    "Функция `barplot()`, которую мы будем использовать для построения столбиковой диаграммы, принимает на вход два набора значений: список или массив значений по оси `x` (подписи к столбикам) и список или массив значений по оси `y` (частоты). Извлечём их из `tab`:"
   ]
  },
  {
   "cell_type": "code",
   "execution_count": 44,
   "metadata": {},
   "outputs": [],
   "source": [
    "x = tab.index\n",
    "y = tab.values"
   ]
  },
  {
   "cell_type": "code",
   "execution_count": 45,
   "metadata": {},
   "outputs": [
    {
     "data": {
      "text/plain": [
       "(Index(['SA', 'S', 'C', 'N', 'M'], dtype='object'),\n",
       " array([848, 655, 548, 305,  75]))"
      ]
     },
     "execution_count": 45,
     "metadata": {},
     "output_type": "execute_result"
    }
   ],
   "source": [
    "x, y"
   ]
  },
  {
   "cell_type": "markdown",
   "metadata": {},
   "source": [
    "Теперь поменяем фон у графика на белый и построим диаграмму:"
   ]
  },
  {
   "cell_type": "code",
   "execution_count": 47,
   "metadata": {},
   "outputs": [
    {
     "data": {
      "text/plain": [
       "<matplotlib.axes._subplots.AxesSubplot at 0x1a24fa5610>"
      ]
     },
     "execution_count": 47,
     "metadata": {},
     "output_type": "execute_result"
    },
    {
     "data": {
      "image/png": "[encoded data removed]",
      "text/plain": [
       "<Figure size 432x288 with 1 Axes>"
      ]
     },
     "metadata": {},
     "output_type": "display_data"
    }
   ],
   "source": [
    "sns.set_style(\"whitegrid\")\n",
    "sns.barplot(x, y)"
   ]
  },
  {
   "cell_type": "markdown",
   "metadata": {},
   "source": [
    "Теперь попробуем построить похожий график, только с группировкой по полу. Другими словами, мы хотим получить график, где для каждого региона строится столбик отдельно для мужчин и отдельно для женщин. Опять же, сначала сгруппируем данные:"
   ]
  },
  {
   "cell_type": "code",
   "execution_count": 48,
   "metadata": {},
   "outputs": [
    {
     "data": {
      "text/html": [
       "<div>\n",
       "<style scoped>\n",
       "    .dataframe tbody tr th:only-of-type {\n",
       "        vertical-align: middle;\n",
       "    }\n",
       "\n",
       "    .dataframe tbody tr th {\n",
       "        vertical-align: top;\n",
       "    }\n",
       "\n",
       "    .dataframe thead th {\n",
       "        text-align: right;\n",
       "    }\n",
       "</style>\n",
       "<table border=\"1\" class=\"dataframe\">\n",
       "  <thead>\n",
       "    <tr style=\"text-align: right;\">\n",
       "      <th></th>\n",
       "      <th>region</th>\n",
       "      <th>sex</th>\n",
       "      <th>Unnamed: 0</th>\n",
       "      <th>population</th>\n",
       "      <th>age</th>\n",
       "      <th>education</th>\n",
       "      <th>income</th>\n",
       "      <th>statusquo</th>\n",
       "      <th>vote</th>\n",
       "    </tr>\n",
       "  </thead>\n",
       "  <tbody>\n",
       "    <tr>\n",
       "      <td>0</td>\n",
       "      <td>C</td>\n",
       "      <td>F</td>\n",
       "      <td>269</td>\n",
       "      <td>269</td>\n",
       "      <td>269</td>\n",
       "      <td>269</td>\n",
       "      <td>269</td>\n",
       "      <td>269</td>\n",
       "      <td>269</td>\n",
       "    </tr>\n",
       "    <tr>\n",
       "      <td>1</td>\n",
       "      <td>C</td>\n",
       "      <td>M</td>\n",
       "      <td>279</td>\n",
       "      <td>279</td>\n",
       "      <td>279</td>\n",
       "      <td>279</td>\n",
       "      <td>279</td>\n",
       "      <td>279</td>\n",
       "      <td>279</td>\n",
       "    </tr>\n",
       "    <tr>\n",
       "      <td>2</td>\n",
       "      <td>M</td>\n",
       "      <td>F</td>\n",
       "      <td>43</td>\n",
       "      <td>43</td>\n",
       "      <td>43</td>\n",
       "      <td>43</td>\n",
       "      <td>43</td>\n",
       "      <td>43</td>\n",
       "      <td>43</td>\n",
       "    </tr>\n",
       "    <tr>\n",
       "      <td>3</td>\n",
       "      <td>M</td>\n",
       "      <td>M</td>\n",
       "      <td>32</td>\n",
       "      <td>32</td>\n",
       "      <td>32</td>\n",
       "      <td>32</td>\n",
       "      <td>32</td>\n",
       "      <td>32</td>\n",
       "      <td>32</td>\n",
       "    </tr>\n",
       "    <tr>\n",
       "      <td>4</td>\n",
       "      <td>N</td>\n",
       "      <td>F</td>\n",
       "      <td>159</td>\n",
       "      <td>159</td>\n",
       "      <td>159</td>\n",
       "      <td>159</td>\n",
       "      <td>159</td>\n",
       "      <td>159</td>\n",
       "      <td>159</td>\n",
       "    </tr>\n",
       "    <tr>\n",
       "      <td>5</td>\n",
       "      <td>N</td>\n",
       "      <td>M</td>\n",
       "      <td>146</td>\n",
       "      <td>146</td>\n",
       "      <td>146</td>\n",
       "      <td>146</td>\n",
       "      <td>146</td>\n",
       "      <td>146</td>\n",
       "      <td>146</td>\n",
       "    </tr>\n",
       "    <tr>\n",
       "      <td>6</td>\n",
       "      <td>S</td>\n",
       "      <td>F</td>\n",
       "      <td>330</td>\n",
       "      <td>330</td>\n",
       "      <td>330</td>\n",
       "      <td>330</td>\n",
       "      <td>330</td>\n",
       "      <td>330</td>\n",
       "      <td>330</td>\n",
       "    </tr>\n",
       "    <tr>\n",
       "      <td>7</td>\n",
       "      <td>S</td>\n",
       "      <td>M</td>\n",
       "      <td>325</td>\n",
       "      <td>325</td>\n",
       "      <td>325</td>\n",
       "      <td>325</td>\n",
       "      <td>325</td>\n",
       "      <td>325</td>\n",
       "      <td>325</td>\n",
       "    </tr>\n",
       "    <tr>\n",
       "      <td>8</td>\n",
       "      <td>SA</td>\n",
       "      <td>F</td>\n",
       "      <td>449</td>\n",
       "      <td>449</td>\n",
       "      <td>449</td>\n",
       "      <td>449</td>\n",
       "      <td>449</td>\n",
       "      <td>449</td>\n",
       "      <td>449</td>\n",
       "    </tr>\n",
       "    <tr>\n",
       "      <td>9</td>\n",
       "      <td>SA</td>\n",
       "      <td>M</td>\n",
       "      <td>399</td>\n",
       "      <td>399</td>\n",
       "      <td>399</td>\n",
       "      <td>399</td>\n",
       "      <td>399</td>\n",
       "      <td>399</td>\n",
       "      <td>399</td>\n",
       "    </tr>\n",
       "  </tbody>\n",
       "</table>\n",
       "</div>"
      ],
      "text/plain": [
       "  region sex  Unnamed: 0  population  age  education  income  statusquo  vote\n",
       "0      C   F         269         269  269        269     269        269   269\n",
       "1      C   M         279         279  279        279     279        279   279\n",
       "2      M   F          43          43   43         43      43         43    43\n",
       "3      M   M          32          32   32         32      32         32    32\n",
       "4      N   F         159         159  159        159     159        159   159\n",
       "5      N   M         146         146  146        146     146        146   146\n",
       "6      S   F         330         330  330        330     330        330   330\n",
       "7      S   M         325         325  325        325     325        325   325\n",
       "8     SA   F         449         449  449        449     449        449   449\n",
       "9     SA   M         399         399  399        399     399        399   399"
      ]
     },
     "execution_count": 48,
     "metadata": {},
     "output_type": "execute_result"
    }
   ],
   "source": [
    "res = ch.groupby(['region', 'sex'], as_index=False).count()\n",
    "res"
   ]
  },
  {
   "cell_type": "markdown",
   "metadata": {},
   "source": [
    "Опция `as_index = False` нужна для того, чтобы `region` и `sex` не записывались как уровни (отдельный атрибут), а чтобы для каждой пары *регион-пол* создавалась отдельная строка. Сравните результат выше с результатом, полученным без `as_index=False`:"
   ]
  },
  {
   "cell_type": "code",
   "execution_count": 49,
   "metadata": {},
   "outputs": [
    {
     "data": {
      "text/html": [
       "<div>\n",
       "<style scoped>\n",
       "    .dataframe tbody tr th:only-of-type {\n",
       "        vertical-align: middle;\n",
       "    }\n",
       "\n",
       "    .dataframe tbody tr th {\n",
       "        vertical-align: top;\n",
       "    }\n",
       "\n",
       "    .dataframe thead th {\n",
       "        text-align: right;\n",
       "    }\n",
       "</style>\n",
       "<table border=\"1\" class=\"dataframe\">\n",
       "  <thead>\n",
       "    <tr style=\"text-align: right;\">\n",
       "      <th></th>\n",
       "      <th></th>\n",
       "      <th>Unnamed: 0</th>\n",
       "      <th>population</th>\n",
       "      <th>age</th>\n",
       "      <th>education</th>\n",
       "      <th>income</th>\n",
       "      <th>statusquo</th>\n",
       "      <th>vote</th>\n",
       "    </tr>\n",
       "    <tr>\n",
       "      <th>region</th>\n",
       "      <th>sex</th>\n",
       "      <th></th>\n",
       "      <th></th>\n",
       "      <th></th>\n",
       "      <th></th>\n",
       "      <th></th>\n",
       "      <th></th>\n",
       "      <th></th>\n",
       "    </tr>\n",
       "  </thead>\n",
       "  <tbody>\n",
       "    <tr>\n",
       "      <td rowspan=\"2\" valign=\"top\">C</td>\n",
       "      <td>F</td>\n",
       "      <td>269</td>\n",
       "      <td>269</td>\n",
       "      <td>269</td>\n",
       "      <td>269</td>\n",
       "      <td>269</td>\n",
       "      <td>269</td>\n",
       "      <td>269</td>\n",
       "    </tr>\n",
       "    <tr>\n",
       "      <td>M</td>\n",
       "      <td>279</td>\n",
       "      <td>279</td>\n",
       "      <td>279</td>\n",
       "      <td>279</td>\n",
       "      <td>279</td>\n",
       "      <td>279</td>\n",
       "      <td>279</td>\n",
       "    </tr>\n",
       "    <tr>\n",
       "      <td rowspan=\"2\" valign=\"top\">M</td>\n",
       "      <td>F</td>\n",
       "      <td>43</td>\n",
       "      <td>43</td>\n",
       "      <td>43</td>\n",
       "      <td>43</td>\n",
       "      <td>43</td>\n",
       "      <td>43</td>\n",
       "      <td>43</td>\n",
       "    </tr>\n",
       "    <tr>\n",
       "      <td>M</td>\n",
       "      <td>32</td>\n",
       "      <td>32</td>\n",
       "      <td>32</td>\n",
       "      <td>32</td>\n",
       "      <td>32</td>\n",
       "      <td>32</td>\n",
       "      <td>32</td>\n",
       "    </tr>\n",
       "    <tr>\n",
       "      <td rowspan=\"2\" valign=\"top\">N</td>\n",
       "      <td>F</td>\n",
       "      <td>159</td>\n",
       "      <td>159</td>\n",
       "      <td>159</td>\n",
       "      <td>159</td>\n",
       "      <td>159</td>\n",
       "      <td>159</td>\n",
       "      <td>159</td>\n",
       "    </tr>\n",
       "    <tr>\n",
       "      <td>M</td>\n",
       "      <td>146</td>\n",
       "      <td>146</td>\n",
       "      <td>146</td>\n",
       "      <td>146</td>\n",
       "      <td>146</td>\n",
       "      <td>146</td>\n",
       "      <td>146</td>\n",
       "    </tr>\n",
       "    <tr>\n",
       "      <td rowspan=\"2\" valign=\"top\">S</td>\n",
       "      <td>F</td>\n",
       "      <td>330</td>\n",
       "      <td>330</td>\n",
       "      <td>330</td>\n",
       "      <td>330</td>\n",
       "      <td>330</td>\n",
       "      <td>330</td>\n",
       "      <td>330</td>\n",
       "    </tr>\n",
       "    <tr>\n",
       "      <td>M</td>\n",
       "      <td>325</td>\n",
       "      <td>325</td>\n",
       "      <td>325</td>\n",
       "      <td>325</td>\n",
       "      <td>325</td>\n",
       "      <td>325</td>\n",
       "      <td>325</td>\n",
       "    </tr>\n",
       "    <tr>\n",
       "      <td rowspan=\"2\" valign=\"top\">SA</td>\n",
       "      <td>F</td>\n",
       "      <td>449</td>\n",
       "      <td>449</td>\n",
       "      <td>449</td>\n",
       "      <td>449</td>\n",
       "      <td>449</td>\n",
       "      <td>449</td>\n",
       "      <td>449</td>\n",
       "    </tr>\n",
       "    <tr>\n",
       "      <td>M</td>\n",
       "      <td>399</td>\n",
       "      <td>399</td>\n",
       "      <td>399</td>\n",
       "      <td>399</td>\n",
       "      <td>399</td>\n",
       "      <td>399</td>\n",
       "      <td>399</td>\n",
       "    </tr>\n",
       "  </tbody>\n",
       "</table>\n",
       "</div>"
      ],
      "text/plain": [
       "            Unnamed: 0  population  age  education  income  statusquo  vote\n",
       "region sex                                                                 \n",
       "C      F           269         269  269        269     269        269   269\n",
       "       M           279         279  279        279     279        279   279\n",
       "M      F            43          43   43         43      43         43    43\n",
       "       M            32          32   32         32      32         32    32\n",
       "N      F           159         159  159        159     159        159   159\n",
       "       M           146         146  146        146     146        146   146\n",
       "S      F           330         330  330        330     330        330   330\n",
       "       M           325         325  325        325     325        325   325\n",
       "SA     F           449         449  449        449     449        449   449\n",
       "       M           399         399  399        399     399        399   399"
      ]
     },
     "execution_count": 49,
     "metadata": {},
     "output_type": "execute_result"
    }
   ],
   "source": [
    "ch.groupby(['region', 'sex']).count() "
   ]
  },
  {
   "cell_type": "markdown",
   "metadata": {},
   "source": [
    "Вся таблица `res` нам не нужна, поскольку в ней много одинаковых числовых столбцов. Выберем столбцы `region` и `sex` (нужны для группировки) и столбец `vote` (один из числовых столбцов, могли взять другой):"
   ]
  },
  {
   "cell_type": "code",
   "execution_count": 50,
   "metadata": {},
   "outputs": [
    {
     "data": {
      "text/html": [
       "<div>\n",
       "<style scoped>\n",
       "    .dataframe tbody tr th:only-of-type {\n",
       "        vertical-align: middle;\n",
       "    }\n",
       "\n",
       "    .dataframe tbody tr th {\n",
       "        vertical-align: top;\n",
       "    }\n",
       "\n",
       "    .dataframe thead th {\n",
       "        text-align: right;\n",
       "    }\n",
       "</style>\n",
       "<table border=\"1\" class=\"dataframe\">\n",
       "  <thead>\n",
       "    <tr style=\"text-align: right;\">\n",
       "      <th></th>\n",
       "      <th>region</th>\n",
       "      <th>sex</th>\n",
       "      <th>vote</th>\n",
       "    </tr>\n",
       "  </thead>\n",
       "  <tbody>\n",
       "    <tr>\n",
       "      <td>0</td>\n",
       "      <td>C</td>\n",
       "      <td>F</td>\n",
       "      <td>269</td>\n",
       "    </tr>\n",
       "    <tr>\n",
       "      <td>1</td>\n",
       "      <td>C</td>\n",
       "      <td>M</td>\n",
       "      <td>279</td>\n",
       "    </tr>\n",
       "    <tr>\n",
       "      <td>2</td>\n",
       "      <td>M</td>\n",
       "      <td>F</td>\n",
       "      <td>43</td>\n",
       "    </tr>\n",
       "    <tr>\n",
       "      <td>3</td>\n",
       "      <td>M</td>\n",
       "      <td>M</td>\n",
       "      <td>32</td>\n",
       "    </tr>\n",
       "    <tr>\n",
       "      <td>4</td>\n",
       "      <td>N</td>\n",
       "      <td>F</td>\n",
       "      <td>159</td>\n",
       "    </tr>\n",
       "    <tr>\n",
       "      <td>5</td>\n",
       "      <td>N</td>\n",
       "      <td>M</td>\n",
       "      <td>146</td>\n",
       "    </tr>\n",
       "    <tr>\n",
       "      <td>6</td>\n",
       "      <td>S</td>\n",
       "      <td>F</td>\n",
       "      <td>330</td>\n",
       "    </tr>\n",
       "    <tr>\n",
       "      <td>7</td>\n",
       "      <td>S</td>\n",
       "      <td>M</td>\n",
       "      <td>325</td>\n",
       "    </tr>\n",
       "    <tr>\n",
       "      <td>8</td>\n",
       "      <td>SA</td>\n",
       "      <td>F</td>\n",
       "      <td>449</td>\n",
       "    </tr>\n",
       "    <tr>\n",
       "      <td>9</td>\n",
       "      <td>SA</td>\n",
       "      <td>M</td>\n",
       "      <td>399</td>\n",
       "    </tr>\n",
       "  </tbody>\n",
       "</table>\n",
       "</div>"
      ],
      "text/plain": [
       "  region sex  vote\n",
       "0      C   F   269\n",
       "1      C   M   279\n",
       "2      M   F    43\n",
       "3      M   M    32\n",
       "4      N   F   159\n",
       "5      N   M   146\n",
       "6      S   F   330\n",
       "7      S   M   325\n",
       "8     SA   F   449\n",
       "9     SA   M   399"
      ]
     },
     "execution_count": 50,
     "metadata": {},
     "output_type": "execute_result"
    }
   ],
   "source": [
    "freq = res[['region', 'sex', 'vote']]\n",
    "freq"
   ]
  },
  {
   "cell_type": "markdown",
   "metadata": {},
   "source": [
    "Осталось, используя табличку `freq` выше, построить график! Применим функцию `catplot()`, от *categorical plot*, график для категориальных (нечисловых) данных:"
   ]
  },
  {
   "cell_type": "code",
   "execution_count": null,
   "metadata": {},
   "outputs": [],
   "source": [
    "sns.catplot(x = \"region\", \n",
    "            y = \"vote\", \n",
    "            hue = \"sex\", \n",
    "            data=freq,\n",
    "            kind=\"bar\")\n",
    "plt.ylabel(\"Counts\")\n",
    "plt.xlabel(\"Region\")"
   ]
  },
  {
   "cell_type": "markdown",
   "metadata": {},
   "source": [
    "По оси `x` указаны значения из `region`, по оси `y` – частоты из `vote`, внутри каждого региона добавляем группировку по значениям `sex` и делаем столбцы разного цвета (`hue`), сообщаем, что все эти столбцы берутся из таблицы `freq`. \n",
    "\n",
    "Если мы хотим поменять цвета у столбцов, можем указать другую цветовую палитру (нашли её в [документации](https://matplotlib.org/3.1.3/tutorials/colors/colormaps.html) `matplotlib`):"
   ]
  },
  {
   "cell_type": "code",
   "execution_count": 51,
   "metadata": {},
   "outputs": [
    {
     "data": {
      "text/plain": [
       "Text(0.5, 22.960000000000015, 'Region')"
      ]
     },
     "execution_count": 51,
     "metadata": {},
     "output_type": "execute_result"
    },
    {
     "data": {
      "image/png": "[encoded data removed]",
      "text/plain": [
       "<Figure size 408.85x360 with 1 Axes>"
      ]
     },
     "metadata": {},
     "output_type": "display_data"
    }
   ],
   "source": [
    "# аргумент palette\n",
    "\n",
    "sns.catplot(x = \"region\", \n",
    "            y = \"vote\", \n",
    "            hue = \"sex\", \n",
    "            data=freq,\n",
    "            kind=\"bar\",\n",
    "            palette = \"Pastel1\")\n",
    "plt.ylabel(\"Counts\")\n",
    "plt.xlabel(\"Region\")"
   ]
  }
 ],
 "metadata": {
  "kernelspec": {
   "display_name": "Python 3",
   "language": "python",
   "name": "python3"
  },
  "language_info": {
   "codemirror_mode": {
    "name": "ipython",
    "version": 3
   },
   "file_extension": ".py",
   "mimetype": "text/x-python",
   "name": "python",
   "nbconvert_exporter": "python",
   "pygments_lexer": "ipython3",
   "version": "3.7.4"
  }
 },
 "nbformat": 4,
 "nbformat_minor": 2
}
